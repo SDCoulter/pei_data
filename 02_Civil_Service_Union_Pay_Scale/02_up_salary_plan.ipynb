{
 "cells": [
  {
   "cell_type": "markdown",
   "id": "ad98b83d",
   "metadata": {},
   "source": [
    "## PEI Civil Service Union Pay Scale\n",
    "\n",
    "Using the data from [OD0052 Civil Service Union Pay Scale](https://data.princeedwardisland.ca/Government-and-Economy/OD0052-Civil-Service-Union-Pay-Scale/n86j-68si) we aim to mimic the visualizations featured on the open data hub.\n",
    "\n",
    "From the Open Data Portal:\n",
    "\n",
    ">Reports by Job classification the most current hourly rate of pay for each step in the classification level. Salary Plan indicates those classifications in the UPSE Civil agreement which have a 7.5 hour work day and those with 8.0 hour days.\n",
    "For agreements which have expired, the last rate increase will remain in effect until a new agreement is negotiated."
   ]
  },
  {
   "cell_type": "code",
   "execution_count": 1,
   "id": "d5d3a7a5",
   "metadata": {},
   "outputs": [],
   "source": [
    "%matplotlib inline\n",
    "# Dependencies.\n",
    "import pandas as pd\n",
    "import seaborn as sns\n",
    "import numpy as np\n",
    "import matplotlib.pyplot as plt\n",
    "import matplotlib.patches as mpatches\n",
    "\n",
    "# Style.\n",
    "from matplotlib import style\n",
    "style.use('fivethirtyeight')"
   ]
  },
  {
   "cell_type": "code",
   "execution_count": 2,
   "id": "f5af5b41",
   "metadata": {},
   "outputs": [
    {
     "data": {
      "text/html": [
       "<div>\n",
       "<style scoped>\n",
       "    .dataframe tbody tr th:only-of-type {\n",
       "        vertical-align: middle;\n",
       "    }\n",
       "\n",
       "    .dataframe tbody tr th {\n",
       "        vertical-align: top;\n",
       "    }\n",
       "\n",
       "    .dataframe thead th {\n",
       "        text-align: right;\n",
       "    }\n",
       "</style>\n",
       "<table border=\"1\" class=\"dataframe\">\n",
       "  <thead>\n",
       "    <tr style=\"text-align: right;\">\n",
       "      <th></th>\n",
       "      <th>Salary Plan</th>\n",
       "      <th>Eff Date</th>\n",
       "      <th>Job Classification</th>\n",
       "      <th>Grade</th>\n",
       "      <th>Step</th>\n",
       "      <th>Hrly Rate</th>\n",
       "    </tr>\n",
       "  </thead>\n",
       "  <tbody>\n",
       "    <tr>\n",
       "      <th>0</th>\n",
       "      <td>UPSE Civil 7.5 Hr.</td>\n",
       "      <td>10/01/2017 12:00:00 AM</td>\n",
       "      <td>Admin Support Worker</td>\n",
       "      <td>10</td>\n",
       "      <td>3</td>\n",
       "      <td>21.12</td>\n",
       "    </tr>\n",
       "    <tr>\n",
       "      <th>1</th>\n",
       "      <td>UPSE Civil 7.5 Hr.</td>\n",
       "      <td>10/01/2017 12:00:00 AM</td>\n",
       "      <td>Admin Support Worker</td>\n",
       "      <td>10</td>\n",
       "      <td>4</td>\n",
       "      <td>22.08</td>\n",
       "    </tr>\n",
       "    <tr>\n",
       "      <th>2</th>\n",
       "      <td>UPSE Civil 7.5 Hr.</td>\n",
       "      <td>10/01/2017 12:00:00 AM</td>\n",
       "      <td>Admin Support Worker</td>\n",
       "      <td>10</td>\n",
       "      <td>5</td>\n",
       "      <td>23.03</td>\n",
       "    </tr>\n",
       "    <tr>\n",
       "      <th>3</th>\n",
       "      <td>UPSE Civil 7.5 Hr.</td>\n",
       "      <td>10/01/2017 12:00:00 AM</td>\n",
       "      <td>Admin Support Worker</td>\n",
       "      <td>10</td>\n",
       "      <td>6</td>\n",
       "      <td>24.00</td>\n",
       "    </tr>\n",
       "    <tr>\n",
       "      <th>4</th>\n",
       "      <td>UPSE Civil 7.5 Hr.</td>\n",
       "      <td>10/01/2017 12:00:00 AM</td>\n",
       "      <td>Admin Support Worker</td>\n",
       "      <td>11</td>\n",
       "      <td>3</td>\n",
       "      <td>22.44</td>\n",
       "    </tr>\n",
       "  </tbody>\n",
       "</table>\n",
       "</div>"
      ],
      "text/plain": [
       "          Salary Plan                Eff Date    Job Classification Grade  \\\n",
       "0  UPSE Civil 7.5 Hr.  10/01/2017 12:00:00 AM  Admin Support Worker    10   \n",
       "1  UPSE Civil 7.5 Hr.  10/01/2017 12:00:00 AM  Admin Support Worker    10   \n",
       "2  UPSE Civil 7.5 Hr.  10/01/2017 12:00:00 AM  Admin Support Worker    10   \n",
       "3  UPSE Civil 7.5 Hr.  10/01/2017 12:00:00 AM  Admin Support Worker    10   \n",
       "4  UPSE Civil 7.5 Hr.  10/01/2017 12:00:00 AM  Admin Support Worker    11   \n",
       "\n",
       "   Step  Hrly Rate  \n",
       "0     3      21.12  \n",
       "1     4      22.08  \n",
       "2     5      23.03  \n",
       "3     6      24.00  \n",
       "4     3      22.44  "
      ]
     },
     "execution_count": 2,
     "metadata": {},
     "output_type": "execute_result"
    }
   ],
   "source": [
    "# Dataset.\n",
    "df = pd.read_csv('../resources/transformed_data/OD0052_JC_Transformed.csv')\n",
    "df.head()"
   ]
  },
  {
   "cell_type": "code",
   "execution_count": 3,
   "id": "1724b49a",
   "metadata": {},
   "outputs": [
    {
     "data": {
      "text/plain": [
       "Salary Plan              3\n",
       "Eff Date                 7\n",
       "Job Classification      33\n",
       "Grade                   58\n",
       "Step                     6\n",
       "Hrly Rate             1127\n",
       "dtype: int64"
      ]
     },
     "execution_count": 3,
     "metadata": {},
     "output_type": "execute_result"
    }
   ],
   "source": [
    "# Check unique counts.\n",
    "df.nunique()"
   ]
  },
  {
   "cell_type": "code",
   "execution_count": 4,
   "id": "9e276085",
   "metadata": {},
   "outputs": [
    {
     "data": {
      "text/plain": [
       "<AxesSubplot:title={'center':'Salary Plan Share'}>"
      ]
     },
     "execution_count": 4,
     "metadata": {},
     "output_type": "execute_result"
    },
    {
     "data": {
      "image/png": "[encoded data removed]",
      "text/plain": [
       "<Figure size 432x288 with 1 Axes>"
      ]
     },
     "metadata": {},
     "output_type": "display_data"
    }
   ],
   "source": [
    "# Simple Pie Chart with the Salary Plan column.\n",
    "sp_count = df['Salary Plan'].value_counts()\n",
    "sp_count.plot.pie(title='Salary Plan Share', label='', autopct='%1.1f%%', legend=False,\n",
    "                  startangle=90, pctdistance=1.3, labeldistance=1.5, explode=(0.1, 0.1, 0.1))"
   ]
  },
  {
   "cell_type": "code",
   "execution_count": null,
   "id": "21d19faf",
   "metadata": {},
   "outputs": [],
   "source": [
    "    year_pie.plot.pie(y='Value', title=f'{year} Revenue Sources', label='', autopct='%1.1f%%', legend=False, startangle=90)"
   ]
  },
  {
   "cell_type": "code",
   "execution_count": null,
   "id": "09ac795d",
   "metadata": {},
   "outputs": [],
   "source": [
    "a.plot.pie().ipynb_checkpoints/"
   ]
  },
  {
   "cell_type": "code",
   "execution_count": null,
   "id": "7b020d43",
   "metadata": {},
   "outputs": [],
   "source": []
  },
  {
   "cell_type": "code",
   "execution_count": null,
   "id": "7613f3b9",
   "metadata": {},
   "outputs": [],
   "source": []
  },
  {
   "cell_type": "code",
   "execution_count": null,
   "id": "8f502375",
   "metadata": {},
   "outputs": [],
   "source": []
  },
  {
   "cell_type": "code",
   "execution_count": null,
   "id": "88460119",
   "metadata": {},
   "outputs": [],
   "source": []
  },
  {
   "cell_type": "code",
   "execution_count": null,
   "id": "d0d8c97a",
   "metadata": {},
   "outputs": [],
   "source": []
  },
  {
   "cell_type": "code",
   "execution_count": null,
   "id": "592f6229",
   "metadata": {},
   "outputs": [],
   "source": []
  }
 ],
 "metadata": {
  "kernelspec": {
   "display_name": "mlenv",
   "language": "python",
   "name": "mlenv"
  },
  "language_info": {
   "codemirror_mode": {
    "name": "ipython",
    "version": 3
   },
   "file_extension": ".py",
   "mimetype": "text/x-python",
   "name": "python",
   "nbconvert_exporter": "python",
   "pygments_lexer": "ipython3",
   "version": "3.7.10"
  }
 },
 "nbformat": 4,
 "nbformat_minor": 5
}
