{
 "cells": [
  {
   "cell_type": "markdown",
   "id": "7902efa2",
   "metadata": {},
   "source": [
    "# Stream Flow Monitoring - Data Exploration (EXTRACT)\n",
    "\n",
    "From the [OD0145 Stream Flow Monitoring](https://data.princeedwardisland.ca/Environment-and-Food/OD0145-Stream-Flow-Monitoring/qgve-7whk) dataset on the Prince Edward Island Open Data Portal."
   ]
  },
  {
   "cell_type": "code",
   "execution_count": 1,
   "id": "1723353b",
   "metadata": {},
   "outputs": [],
   "source": [
    "import pandas as pd"
   ]
  },
  {
   "cell_type": "code",
   "execution_count": 3,
   "id": "b7939b62",
   "metadata": {},
   "outputs": [
    {
     "data": {
      "text/html": [
       "<div>\n",
       "<style scoped>\n",
       "    .dataframe tbody tr th:only-of-type {\n",
       "        vertical-align: middle;\n",
       "    }\n",
       "\n",
       "    .dataframe tbody tr th {\n",
       "        vertical-align: top;\n",
       "    }\n",
       "\n",
       "    .dataframe thead th {\n",
       "        text-align: right;\n",
       "    }\n",
       "</style>\n",
       "<table border=\"1\" class=\"dataframe\">\n",
       "  <thead>\n",
       "    <tr style=\"text-align: right;\">\n",
       "      <th></th>\n",
       "      <th>LocationName</th>\n",
       "      <th>Timestamp</th>\n",
       "      <th>Time</th>\n",
       "      <th>YearMonthDay</th>\n",
       "      <th>YearMonth</th>\n",
       "      <th>Year</th>\n",
       "      <th>RawFlow</th>\n",
       "      <th>MaintenanceFlow</th>\n",
       "    </tr>\n",
       "  </thead>\n",
       "  <tbody>\n",
       "    <tr>\n",
       "      <th>0</th>\n",
       "      <td>Southwest River Site 2</td>\n",
       "      <td>09/06/2019 12:00:00 PM</td>\n",
       "      <td>2019-09-06 12:00</td>\n",
       "      <td>2019-09-06</td>\n",
       "      <td>2019-09</td>\n",
       "      <td>2019</td>\n",
       "      <td>0.273</td>\n",
       "      <td>0.147</td>\n",
       "    </tr>\n",
       "    <tr>\n",
       "      <th>1</th>\n",
       "      <td>Southwest River Site 2</td>\n",
       "      <td>09/30/2019 05:00:00 PM</td>\n",
       "      <td>2019-09-30 17:00</td>\n",
       "      <td>2019-09-30</td>\n",
       "      <td>2019-09</td>\n",
       "      <td>2019</td>\n",
       "      <td>0.533</td>\n",
       "      <td>0.147</td>\n",
       "    </tr>\n",
       "    <tr>\n",
       "      <th>2</th>\n",
       "      <td>Southwest River Site 2</td>\n",
       "      <td>09/05/2021 07:00:00 PM</td>\n",
       "      <td>2021-09-05 19:00</td>\n",
       "      <td>2021-09-05</td>\n",
       "      <td>2021-09</td>\n",
       "      <td>2021</td>\n",
       "      <td>0.507</td>\n",
       "      <td>0.147</td>\n",
       "    </tr>\n",
       "    <tr>\n",
       "      <th>3</th>\n",
       "      <td>Bradshaw River</td>\n",
       "      <td>07/01/2009 12:00:00 AM</td>\n",
       "      <td>2009-07-01 00:00</td>\n",
       "      <td>2009-07-01</td>\n",
       "      <td>2009-07</td>\n",
       "      <td>2009</td>\n",
       "      <td>0.369</td>\n",
       "      <td>0.230</td>\n",
       "    </tr>\n",
       "    <tr>\n",
       "      <th>4</th>\n",
       "      <td>Bradshaw River</td>\n",
       "      <td>07/01/2009 01:00:00 AM</td>\n",
       "      <td>2009-07-01 01:00</td>\n",
       "      <td>2009-07-01</td>\n",
       "      <td>2009-07</td>\n",
       "      <td>2009</td>\n",
       "      <td>0.371</td>\n",
       "      <td>0.230</td>\n",
       "    </tr>\n",
       "  </tbody>\n",
       "</table>\n",
       "</div>"
      ],
      "text/plain": [
       "             LocationName               Timestamp              Time  \\\n",
       "0  Southwest River Site 2  09/06/2019 12:00:00 PM  2019-09-06 12:00   \n",
       "1  Southwest River Site 2  09/30/2019 05:00:00 PM  2019-09-30 17:00   \n",
       "2  Southwest River Site 2  09/05/2021 07:00:00 PM  2021-09-05 19:00   \n",
       "3          Bradshaw River  07/01/2009 12:00:00 AM  2009-07-01 00:00   \n",
       "4          Bradshaw River  07/01/2009 01:00:00 AM  2009-07-01 01:00   \n",
       "\n",
       "  YearMonthDay YearMonth  Year  RawFlow  MaintenanceFlow  \n",
       "0   2019-09-06   2019-09  2019    0.273            0.147  \n",
       "1   2019-09-30   2019-09  2019    0.533            0.147  \n",
       "2   2021-09-05   2021-09  2021    0.507            0.147  \n",
       "3   2009-07-01   2009-07  2009    0.369            0.230  \n",
       "4   2009-07-01   2009-07  2009    0.371            0.230  "
      ]
     },
     "execution_count": 3,
     "metadata": {},
     "output_type": "execute_result"
    }
   ],
   "source": [
    "df = pd.read_csv('../resources/OD0145_Stream_Flow_Monitoring.csv')\n",
    "df.head()"
   ]
  },
  {
   "cell_type": "code",
   "execution_count": 8,
   "id": "47bb99d1",
   "metadata": {},
   "outputs": [
    {
     "data": {
      "text/plain": [
       "LocationName           8\n",
       "Timestamp          61067\n",
       "Time               61067\n",
       "YearMonthDay        2579\n",
       "YearMonth             98\n",
       "Year                  13\n",
       "RawFlow             4402\n",
       "MaintenanceFlow       31\n",
       "dtype: int64"
      ]
     },
     "execution_count": 8,
     "metadata": {},
     "output_type": "execute_result"
    }
   ],
   "source": [
    "# Check unique value counts.\n",
    "df.nunique()"
   ]
  },
  {
   "cell_type": "code",
   "execution_count": 26,
   "id": "edace390",
   "metadata": {},
   "outputs": [
    {
     "data": {
      "text/html": [
       "<div>\n",
       "<style scoped>\n",
       "    .dataframe tbody tr th:only-of-type {\n",
       "        vertical-align: middle;\n",
       "    }\n",
       "\n",
       "    .dataframe tbody tr th {\n",
       "        vertical-align: top;\n",
       "    }\n",
       "\n",
       "    .dataframe thead th {\n",
       "        text-align: right;\n",
       "    }\n",
       "</style>\n",
       "<table border=\"1\" class=\"dataframe\">\n",
       "  <thead>\n",
       "    <tr style=\"text-align: right;\">\n",
       "      <th></th>\n",
       "      <th>LocationName</th>\n",
       "      <th>Count</th>\n",
       "    </tr>\n",
       "  </thead>\n",
       "  <tbody>\n",
       "    <tr>\n",
       "      <th>0</th>\n",
       "      <td>Southwest River Site 2</td>\n",
       "      <td>17082</td>\n",
       "    </tr>\n",
       "    <tr>\n",
       "      <th>1</th>\n",
       "      <td>Bradshaw River</td>\n",
       "      <td>48137</td>\n",
       "    </tr>\n",
       "    <tr>\n",
       "      <th>2</th>\n",
       "      <td>Dunk River</td>\n",
       "      <td>36825</td>\n",
       "    </tr>\n",
       "    <tr>\n",
       "      <th>3</th>\n",
       "      <td>Montague River</td>\n",
       "      <td>10586</td>\n",
       "    </tr>\n",
       "    <tr>\n",
       "      <th>4</th>\n",
       "      <td>North Brook</td>\n",
       "      <td>15786</td>\n",
       "    </tr>\n",
       "    <tr>\n",
       "      <th>5</th>\n",
       "      <td>Southwest River Site 1</td>\n",
       "      <td>13711</td>\n",
       "    </tr>\n",
       "    <tr>\n",
       "      <th>6</th>\n",
       "      <td>Vernon River</td>\n",
       "      <td>10564</td>\n",
       "    </tr>\n",
       "    <tr>\n",
       "      <th>7</th>\n",
       "      <td>Wilmot River</td>\n",
       "      <td>18938</td>\n",
       "    </tr>\n",
       "  </tbody>\n",
       "</table>\n",
       "</div>"
      ],
      "text/plain": [
       "             LocationName  Count\n",
       "0  Southwest River Site 2  17082\n",
       "1          Bradshaw River  48137\n",
       "2              Dunk River  36825\n",
       "3          Montague River  10586\n",
       "4             North Brook  15786\n",
       "5  Southwest River Site 1  13711\n",
       "6            Vernon River  10564\n",
       "7            Wilmot River  18938"
      ]
     },
     "execution_count": 26,
     "metadata": {},
     "output_type": "execute_result"
    }
   ],
   "source": [
    "# Get unique LocationNames and number of records per.\n",
    "pd.DataFrame({'LocationName': df['LocationName'].unique().tolist(),\n",
    "              'Count': [df.loc[df['LocationName'] == x]['LocationName'].count() for x in df['LocationName'].unique().tolist()]})"
   ]
  },
  {
   "cell_type": "code",
   "execution_count": 14,
   "id": "c717528c",
   "metadata": {},
   "outputs": [
    {
     "data": {
      "text/plain": [
       "['Southwest River Site 2',\n",
       " 'Bradshaw River',\n",
       " 'Dunk River',\n",
       " 'Montague River',\n",
       " 'North Brook',\n",
       " 'Southwest River Site 1',\n",
       " 'Vernon River',\n",
       " 'Wilmot River']"
      ]
     },
     "execution_count": 14,
     "metadata": {},
     "output_type": "execute_result"
    }
   ],
   "source": [
    "df['LocationName'].unique().tolist()"
   ]
  },
  {
   "cell_type": "code",
   "execution_count": 20,
   "id": "065052e4",
   "metadata": {},
   "outputs": [
    {
     "data": {
      "text/plain": [
       "[17082, 48137, 36825, 10586, 15786, 13711, 10564, 18938]"
      ]
     },
     "execution_count": 20,
     "metadata": {},
     "output_type": "execute_result"
    }
   ],
   "source": [
    "[df.loc[df['LocationName'] == x]['LocationName'].count() for x in df['LocationName'].unique().tolist()]"
   ]
  },
  {
   "cell_type": "code",
   "execution_count": null,
   "id": "bd6ce75c",
   "metadata": {},
   "outputs": [],
   "source": []
  },
  {
   "cell_type": "code",
   "execution_count": null,
   "id": "5bc64d26",
   "metadata": {},
   "outputs": [],
   "source": []
  },
  {
   "cell_type": "code",
   "execution_count": 18,
   "id": "8cfbb0d1",
   "metadata": {},
   "outputs": [
    {
     "data": {
      "text/plain": [
       "17082"
      ]
     },
     "execution_count": 18,
     "metadata": {},
     "output_type": "execute_result"
    }
   ],
   "source": [
    "df.loc[df['LocationName'] == 'Southwest River Site 2']['LocationName'].count()"
   ]
  },
  {
   "cell_type": "code",
   "execution_count": null,
   "id": "6686180c",
   "metadata": {},
   "outputs": [],
   "source": []
  }
 ],
 "metadata": {
  "kernelspec": {
   "display_name": "mlenv",
   "language": "python",
   "name": "mlenv"
  },
  "language_info": {
   "codemirror_mode": {
    "name": "ipython",
    "version": 3
   },
   "file_extension": ".py",
   "mimetype": "text/x-python",
   "name": "python",
   "nbconvert_exporter": "python",
   "pygments_lexer": "ipython3",
   "version": "3.7.10"
  }
 },
 "nbformat": 4,
 "nbformat_minor": 5
}
