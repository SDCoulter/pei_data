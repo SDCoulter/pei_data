{
 "cells": [
  {
   "cell_type": "code",
   "execution_count": 1,
   "id": "244f73f2",
   "metadata": {},
   "outputs": [],
   "source": [
    "# Dependencies.\n",
    "import pandas as pd\n",
    "import re\n",
    "import requests\n",
    "from bs4 import BeautifulSoup"
   ]
  },
  {
   "cell_type": "code",
   "execution_count": 2,
   "id": "4f25baae",
   "metadata": {},
   "outputs": [],
   "source": [
    "# Open text file with HTML containing links to each location.\n",
    "with open('../resources/pei_gov_placefinder_links.txt') as f:\n",
    "    data = f.read()\n",
    "\n",
    "# Split the read data into lines to loop through.\n",
    "data_lines = data.split('<a ')"
   ]
  },
  {
   "cell_type": "code",
   "execution_count": 3,
   "id": "36222037",
   "metadata": {},
   "outputs": [],
   "source": [
    "# Store the name and corresponding url.\n",
    "name_url = []\n",
    "\n",
    "# Loop through each line.\n",
    "for line in data_lines:\n",
    "    # Locate the URL string.\n",
    "    u = re.search(r'\"(.+?\")', line)\n",
    "    if u:\n",
    "        # Save the URL string and locate and save the name string.\n",
    "        url = u.group(1)[:-1].replace('amp;', '')\n",
    "        name = re.search(r'>(.+?<)', line).group(1)[:-1]\n",
    "        name_url.append([name, url])"
   ]
  },
  {
   "cell_type": "code",
   "execution_count": 4,
   "id": "d1ea82f2",
   "metadata": {},
   "outputs": [],
   "source": [
    "# Store the combinations.\n",
    "name_url_loc = []\n",
    "\n",
    "# Loop through the names and store the coordinates from each webpage.\n",
    "for place in name_url:\n",
    "\n",
    "    # Create location lookup URL.\n",
    "    lu_url = 'http://www.gov.pe.ca/placefinder/' + place[1]\n",
    "    \n",
    "    # Request the page.\n",
    "    page = requests.get(lu_url)\n",
    "    \n",
    "    # Create the soup.\n",
    "    soup = BeautifulSoup(page.text, 'html.parser')\n",
    "    \n",
    "    # Get the string of text containing the location.\n",
    "    location_string = soup.find_all(class_='copy')[0].text\n",
    "\n",
    "    # Parse text and get the coordinates.\n",
    "    loc_re = re.search(r\"N (.+?\\.)\", location_string)\n",
    "    coords = loc_re.group(1)[:-1]\n",
    "    \n",
    "    # Store the three variables.\n",
    "    name_url_loc.append([place[0], place[1], coords])"
   ]
  },
  {
   "cell_type": "code",
   "execution_count": 5,
   "id": "60ef0ca9",
   "metadata": {},
   "outputs": [
    {
     "data": {
      "text/html": [
       "<div>\n",
       "<style scoped>\n",
       "    .dataframe tbody tr th:only-of-type {\n",
       "        vertical-align: middle;\n",
       "    }\n",
       "\n",
       "    .dataframe tbody tr th {\n",
       "        vertical-align: top;\n",
       "    }\n",
       "\n",
       "    .dataframe thead th {\n",
       "        text-align: right;\n",
       "    }\n",
       "</style>\n",
       "<table border=\"1\" class=\"dataframe\">\n",
       "  <thead>\n",
       "    <tr style=\"text-align: right;\">\n",
       "      <th></th>\n",
       "      <th>URL</th>\n",
       "      <th>Coords</th>\n",
       "    </tr>\n",
       "    <tr>\n",
       "      <th>Place</th>\n",
       "      <th></th>\n",
       "      <th></th>\n",
       "    </tr>\n",
       "  </thead>\n",
       "  <tbody>\n",
       "    <tr>\n",
       "      <th>48 Road</th>\n",
       "      <td>index.php3?cgndb=BAAFX&amp;formattype=&amp;city=48%20Road</td>\n",
       "      <td>46°15', W 62°43'</td>\n",
       "    </tr>\n",
       "    <tr>\n",
       "      <th>Abney</th>\n",
       "      <td>index.php3?cgndb=BADOL&amp;formattype=&amp;city=Abney</td>\n",
       "      <td>45°59', W 62°34'</td>\n",
       "    </tr>\n",
       "    <tr>\n",
       "      <th>Abrams Village</th>\n",
       "      <td>index.php3?cgndb=BADOM&amp;formattype=&amp;city=Abrams...</td>\n",
       "      <td>46°27', W 64°05'</td>\n",
       "    </tr>\n",
       "    <tr>\n",
       "      <th>Afton</th>\n",
       "      <td>index.php3?cgndb=BAEDL&amp;formattype=&amp;city=Afton</td>\n",
       "      <td>46°11', W 63°11'</td>\n",
       "    </tr>\n",
       "    <tr>\n",
       "      <th>Afton Road</th>\n",
       "      <td>index.php3?cgndb=BADOP&amp;formattype=&amp;city=Afton%...</td>\n",
       "      <td>46°23', W 62°56'</td>\n",
       "    </tr>\n",
       "  </tbody>\n",
       "</table>\n",
       "</div>"
      ],
      "text/plain": [
       "                                                              URL  \\\n",
       "Place                                                               \n",
       "48 Road         index.php3?cgndb=BAAFX&formattype=&city=48%20Road   \n",
       "Abney               index.php3?cgndb=BADOL&formattype=&city=Abney   \n",
       "Abrams Village  index.php3?cgndb=BADOM&formattype=&city=Abrams...   \n",
       "Afton               index.php3?cgndb=BAEDL&formattype=&city=Afton   \n",
       "Afton Road      index.php3?cgndb=BADOP&formattype=&city=Afton%...   \n",
       "\n",
       "                          Coords  \n",
       "Place                             \n",
       "48 Road         46°15', W 62°43'  \n",
       "Abney           45°59', W 62°34'  \n",
       "Abrams Village  46°27', W 64°05'  \n",
       "Afton           46°11', W 63°11'  \n",
       "Afton Road      46°23', W 62°56'  "
      ]
     },
     "execution_count": 5,
     "metadata": {},
     "output_type": "execute_result"
    }
   ],
   "source": [
    "# Create a DataFrame.\n",
    "coords_df = pd.DataFrame(name_url_loc, columns=['Place', 'URL', 'Coords'])\n",
    "coords_df = coords_df.set_index('Place')\n",
    "coords_df.to_csv('../resources/transformed_data/pei_places_coordinates.csv')\n",
    "coords_df.head()"
   ]
  }
 ],
 "metadata": {
  "kernelspec": {
   "display_name": "mlenv",
   "language": "python",
   "name": "mlenv"
  },
  "language_info": {
   "codemirror_mode": {
    "name": "ipython",
    "version": 3
   },
   "file_extension": ".py",
   "mimetype": "text/x-python",
   "name": "python",
   "nbconvert_exporter": "python",
   "pygments_lexer": "ipython3",
   "version": "3.7.10"
  }
 },
 "nbformat": 4,
 "nbformat_minor": 5
}
