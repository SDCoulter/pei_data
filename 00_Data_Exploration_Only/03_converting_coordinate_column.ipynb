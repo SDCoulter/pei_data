{
 "cells": [
  {
   "cell_type": "code",
   "execution_count": 1,
   "id": "eee3bf54",
   "metadata": {},
   "outputs": [],
   "source": [
    "# Dependencies.\n",
    "import pandas as pd"
   ]
  },
  {
   "cell_type": "code",
   "execution_count": 2,
   "id": "b945ccc8",
   "metadata": {},
   "outputs": [
    {
     "data": {
      "text/html": [
       "<div>\n",
       "<style scoped>\n",
       "    .dataframe tbody tr th:only-of-type {\n",
       "        vertical-align: middle;\n",
       "    }\n",
       "\n",
       "    .dataframe tbody tr th {\n",
       "        vertical-align: top;\n",
       "    }\n",
       "\n",
       "    .dataframe thead th {\n",
       "        text-align: right;\n",
       "    }\n",
       "</style>\n",
       "<table border=\"1\" class=\"dataframe\">\n",
       "  <thead>\n",
       "    <tr style=\"text-align: right;\">\n",
       "      <th></th>\n",
       "      <th>Place</th>\n",
       "      <th>URL</th>\n",
       "      <th>Coords</th>\n",
       "    </tr>\n",
       "  </thead>\n",
       "  <tbody>\n",
       "    <tr>\n",
       "      <th>0</th>\n",
       "      <td>48 Road</td>\n",
       "      <td>index.php3?cgndb=BAAFX&amp;formattype=&amp;city=48%20Road</td>\n",
       "      <td>46°15', W 62°43'</td>\n",
       "    </tr>\n",
       "    <tr>\n",
       "      <th>1</th>\n",
       "      <td>Abney</td>\n",
       "      <td>index.php3?cgndb=BADOL&amp;formattype=&amp;city=Abney</td>\n",
       "      <td>45°59', W 62°34'</td>\n",
       "    </tr>\n",
       "    <tr>\n",
       "      <th>2</th>\n",
       "      <td>Abrams Village</td>\n",
       "      <td>index.php3?cgndb=BADOM&amp;formattype=&amp;city=Abrams...</td>\n",
       "      <td>46°27', W 64°05'</td>\n",
       "    </tr>\n",
       "    <tr>\n",
       "      <th>3</th>\n",
       "      <td>Afton</td>\n",
       "      <td>index.php3?cgndb=BAEDL&amp;formattype=&amp;city=Afton</td>\n",
       "      <td>46°11', W 63°11'</td>\n",
       "    </tr>\n",
       "    <tr>\n",
       "      <th>4</th>\n",
       "      <td>Afton Road</td>\n",
       "      <td>index.php3?cgndb=BADOP&amp;formattype=&amp;city=Afton%...</td>\n",
       "      <td>46°23', W 62°56'</td>\n",
       "    </tr>\n",
       "  </tbody>\n",
       "</table>\n",
       "</div>"
      ],
      "text/plain": [
       "            Place                                                URL  \\\n",
       "0         48 Road  index.php3?cgndb=BAAFX&formattype=&city=48%20Road   \n",
       "1           Abney      index.php3?cgndb=BADOL&formattype=&city=Abney   \n",
       "2  Abrams Village  index.php3?cgndb=BADOM&formattype=&city=Abrams...   \n",
       "3           Afton      index.php3?cgndb=BAEDL&formattype=&city=Afton   \n",
       "4      Afton Road  index.php3?cgndb=BADOP&formattype=&city=Afton%...   \n",
       "\n",
       "             Coords  \n",
       "0  46°15', W 62°43'  \n",
       "1  45°59', W 62°34'  \n",
       "2  46°27', W 64°05'  \n",
       "3  46°11', W 63°11'  \n",
       "4  46°23', W 62°56'  "
      ]
     },
     "execution_count": 2,
     "metadata": {},
     "output_type": "execute_result"
    }
   ],
   "source": [
    "# Data.\n",
    "df = pd.read_csv('../resources/transformed_data/pei_places_coordinates.csv')\n",
    "df.head()"
   ]
  },
  {
   "cell_type": "code",
   "execution_count": 3,
   "id": "cecf28c7",
   "metadata": {},
   "outputs": [
    {
     "data": {
      "text/html": [
       "<div>\n",
       "<style scoped>\n",
       "    .dataframe tbody tr th:only-of-type {\n",
       "        vertical-align: middle;\n",
       "    }\n",
       "\n",
       "    .dataframe tbody tr th {\n",
       "        vertical-align: top;\n",
       "    }\n",
       "\n",
       "    .dataframe thead th {\n",
       "        text-align: right;\n",
       "    }\n",
       "</style>\n",
       "<table border=\"1\" class=\"dataframe\">\n",
       "  <thead>\n",
       "    <tr style=\"text-align: right;\">\n",
       "      <th></th>\n",
       "      <th>Place</th>\n",
       "      <th>URL</th>\n",
       "      <th>Coords</th>\n",
       "      <th>Longitude</th>\n",
       "      <th>Latitude</th>\n",
       "    </tr>\n",
       "  </thead>\n",
       "  <tbody>\n",
       "    <tr>\n",
       "      <th>0</th>\n",
       "      <td>48 Road</td>\n",
       "      <td>index.php3?cgndb=BAAFX&amp;formattype=&amp;city=48%20Road</td>\n",
       "      <td>46°15', W 62°43'</td>\n",
       "      <td>46.250000</td>\n",
       "      <td>62.716667</td>\n",
       "    </tr>\n",
       "    <tr>\n",
       "      <th>1</th>\n",
       "      <td>Abney</td>\n",
       "      <td>index.php3?cgndb=BADOL&amp;formattype=&amp;city=Abney</td>\n",
       "      <td>45°59', W 62°34'</td>\n",
       "      <td>45.983333</td>\n",
       "      <td>62.566667</td>\n",
       "    </tr>\n",
       "    <tr>\n",
       "      <th>2</th>\n",
       "      <td>Abrams Village</td>\n",
       "      <td>index.php3?cgndb=BADOM&amp;formattype=&amp;city=Abrams...</td>\n",
       "      <td>46°27', W 64°05'</td>\n",
       "      <td>46.450000</td>\n",
       "      <td>64.083333</td>\n",
       "    </tr>\n",
       "    <tr>\n",
       "      <th>3</th>\n",
       "      <td>Afton</td>\n",
       "      <td>index.php3?cgndb=BAEDL&amp;formattype=&amp;city=Afton</td>\n",
       "      <td>46°11', W 63°11'</td>\n",
       "      <td>46.183333</td>\n",
       "      <td>63.183333</td>\n",
       "    </tr>\n",
       "    <tr>\n",
       "      <th>4</th>\n",
       "      <td>Afton Road</td>\n",
       "      <td>index.php3?cgndb=BADOP&amp;formattype=&amp;city=Afton%...</td>\n",
       "      <td>46°23', W 62°56'</td>\n",
       "      <td>46.383333</td>\n",
       "      <td>62.933333</td>\n",
       "    </tr>\n",
       "  </tbody>\n",
       "</table>\n",
       "</div>"
      ],
      "text/plain": [
       "            Place                                                URL  \\\n",
       "0         48 Road  index.php3?cgndb=BAAFX&formattype=&city=48%20Road   \n",
       "1           Abney      index.php3?cgndb=BADOL&formattype=&city=Abney   \n",
       "2  Abrams Village  index.php3?cgndb=BADOM&formattype=&city=Abrams...   \n",
       "3           Afton      index.php3?cgndb=BAEDL&formattype=&city=Afton   \n",
       "4      Afton Road  index.php3?cgndb=BADOP&formattype=&city=Afton%...   \n",
       "\n",
       "             Coords  Longitude   Latitude  \n",
       "0  46°15', W 62°43'  46.250000  62.716667  \n",
       "1  45°59', W 62°34'  45.983333  62.566667  \n",
       "2  46°27', W 64°05'  46.450000  64.083333  \n",
       "3  46°11', W 63°11'  46.183333  63.183333  \n",
       "4  46°23', W 62°56'  46.383333  62.933333  "
      ]
     },
     "execution_count": 3,
     "metadata": {},
     "output_type": "execute_result"
    }
   ],
   "source": [
    "# Split Coords column into Longitude and Latitude.\n",
    "df['Longitude'] = df['Coords'].str[:2].astype(float) + (df['Coords'].str[3:5].astype(float) / 60)\n",
    "df['Latitude'] = df['Coords'].str[10:12].astype(float) + (df['Coords'].str[-3:-1].astype(float) / 60)\n",
    "df.head()"
   ]
  },
  {
   "cell_type": "code",
   "execution_count": 4,
   "id": "f1e84c00",
   "metadata": {},
   "outputs": [],
   "source": [
    "# Store CSV.\n",
    "df.to_csv('../resources/transformed_data/pei_places_url_lat_lng.csv')\n",
    "df[['Place', 'Latitude', 'Longitude']].set_index('Place').to_csv('../resources/transformed_data/pei_place_lat_lng.csv')"
   ]
  }
 ],
 "metadata": {
  "kernelspec": {
   "display_name": "mlenv",
   "language": "python",
   "name": "mlenv"
  },
  "language_info": {
   "codemirror_mode": {
    "name": "ipython",
    "version": 3
   },
   "file_extension": ".py",
   "mimetype": "text/x-python",
   "name": "python",
   "nbconvert_exporter": "python",
   "pygments_lexer": "ipython3",
   "version": "3.7.10"
  }
 },
 "nbformat": 4,
 "nbformat_minor": 5
}
