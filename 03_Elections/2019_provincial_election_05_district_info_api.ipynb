{
 "cells": [
  {
   "cell_type": "markdown",
   "id": "3764a2c7",
   "metadata": {},
   "source": [
    "# Gathering District Information\n",
    "\n",
    "Using the API provided by [Represent Open North](https://represent.opennorth.ca/) we will procure data (including boundaries, etc) about each district."
   ]
  },
  {
   "cell_type": "code",
   "execution_count": 1,
   "id": "39525e3c",
   "metadata": {},
   "outputs": [],
   "source": [
    "# Dependencies.\n",
    "import pandas as pd\n",
    "import json"
   ]
  },
  {
   "cell_type": "code",
   "execution_count": 2,
   "id": "ced6c035",
   "metadata": {},
   "outputs": [],
   "source": [
    "# Make the DF easier to view.\n",
    "pd.set_option('display.max_colwidth',1000)"
   ]
  },
  {
   "cell_type": "code",
   "execution_count": 3,
   "id": "20198866",
   "metadata": {},
   "outputs": [],
   "source": [
    "# Read in JSON file.\n",
    "data = json.load(open('../resources/elections_ron_pei_districts.json'))"
   ]
  },
  {
   "cell_type": "code",
   "execution_count": 4,
   "id": "96ff8319",
   "metadata": {},
   "outputs": [
    {
     "data": {
      "text/html": [
       "<div>\n",
       "<style scoped>\n",
       "    .dataframe tbody tr th:only-of-type {\n",
       "        vertical-align: middle;\n",
       "    }\n",
       "\n",
       "    .dataframe tbody tr th {\n",
       "        vertical-align: top;\n",
       "    }\n",
       "\n",
       "    .dataframe thead th {\n",
       "        text-align: right;\n",
       "    }\n",
       "</style>\n",
       "<table border=\"1\" class=\"dataframe\">\n",
       "  <thead>\n",
       "    <tr style=\"text-align: right;\">\n",
       "      <th></th>\n",
       "      <th>external_id</th>\n",
       "      <th>related</th>\n",
       "      <th>url</th>\n",
       "      <th>boundary_set_name</th>\n",
       "      <th>name</th>\n",
       "    </tr>\n",
       "  </thead>\n",
       "  <tbody>\n",
       "    <tr>\n",
       "      <th>0</th>\n",
       "      <td>26</td>\n",
       "      <td>{'boundary_set_url': '/boundary-sets/prince-edward-island-electoral-districts-2017/'}</td>\n",
       "      <td>/boundaries/prince-edward-island-electoral-districts-2017/alberton-bloomfield/</td>\n",
       "      <td>Prince Edward Island electoral district</td>\n",
       "      <td>Alberton - Bloomfield</td>\n",
       "    </tr>\n",
       "    <tr>\n",
       "      <th>1</th>\n",
       "      <td>23</td>\n",
       "      <td>{'boundary_set_url': '/boundary-sets/prince-edward-island-electoral-districts-2017/'}</td>\n",
       "      <td>/boundaries/prince-edward-island-electoral-districts-2017/tyne-valley-sherbrooke/</td>\n",
       "      <td>Prince Edward Island electoral district</td>\n",
       "      <td>Tyne Valley - Sherbrooke</td>\n",
       "    </tr>\n",
       "    <tr>\n",
       "      <th>2</th>\n",
       "      <td>7</td>\n",
       "      <td>{'boundary_set_url': '/boundary-sets/prince-edward-island-electoral-districts-2017/'}</td>\n",
       "      <td>/boundaries/prince-edward-island-electoral-districts-2017/morell-donagh/</td>\n",
       "      <td>Prince Edward Island electoral district</td>\n",
       "      <td>Morell - Donagh</td>\n",
       "    </tr>\n",
       "    <tr>\n",
       "      <th>3</th>\n",
       "      <td>25</td>\n",
       "      <td>{'boundary_set_url': '/boundary-sets/prince-edward-island-electoral-districts-2017/'}</td>\n",
       "      <td>/boundaries/prince-edward-island-electoral-districts-2017/oleary-inverness/</td>\n",
       "      <td>Prince Edward Island electoral district</td>\n",
       "      <td>O'Leary - Inverness</td>\n",
       "    </tr>\n",
       "    <tr>\n",
       "      <th>4</th>\n",
       "      <td>24</td>\n",
       "      <td>{'boundary_set_url': '/boundary-sets/prince-edward-island-electoral-districts-2017/'}</td>\n",
       "      <td>/boundaries/prince-edward-island-electoral-districts-2017/evangeline-miscouche/</td>\n",
       "      <td>Prince Edward Island electoral district</td>\n",
       "      <td>Evangeline - Miscouche</td>\n",
       "    </tr>\n",
       "  </tbody>\n",
       "</table>\n",
       "</div>"
      ],
      "text/plain": [
       "  external_id  \\\n",
       "0          26   \n",
       "1          23   \n",
       "2           7   \n",
       "3          25   \n",
       "4          24   \n",
       "\n",
       "                                                                                 related  \\\n",
       "0  {'boundary_set_url': '/boundary-sets/prince-edward-island-electoral-districts-2017/'}   \n",
       "1  {'boundary_set_url': '/boundary-sets/prince-edward-island-electoral-districts-2017/'}   \n",
       "2  {'boundary_set_url': '/boundary-sets/prince-edward-island-electoral-districts-2017/'}   \n",
       "3  {'boundary_set_url': '/boundary-sets/prince-edward-island-electoral-districts-2017/'}   \n",
       "4  {'boundary_set_url': '/boundary-sets/prince-edward-island-electoral-districts-2017/'}   \n",
       "\n",
       "                                                                                 url  \\\n",
       "0     /boundaries/prince-edward-island-electoral-districts-2017/alberton-bloomfield/   \n",
       "1  /boundaries/prince-edward-island-electoral-districts-2017/tyne-valley-sherbrooke/   \n",
       "2           /boundaries/prince-edward-island-electoral-districts-2017/morell-donagh/   \n",
       "3        /boundaries/prince-edward-island-electoral-districts-2017/oleary-inverness/   \n",
       "4    /boundaries/prince-edward-island-electoral-districts-2017/evangeline-miscouche/   \n",
       "\n",
       "                         boundary_set_name                      name  \n",
       "0  Prince Edward Island electoral district     Alberton - Bloomfield  \n",
       "1  Prince Edward Island electoral district  Tyne Valley - Sherbrooke  \n",
       "2  Prince Edward Island electoral district           Morell - Donagh  \n",
       "3  Prince Edward Island electoral district       O'Leary - Inverness  \n",
       "4  Prince Edward Island electoral district    Evangeline - Miscouche  "
      ]
     },
     "execution_count": 4,
     "metadata": {},
     "output_type": "execute_result"
    }
   ],
   "source": [
    "# Create \n",
    "df = pd.DataFrame(data[\"objects\"])\n",
    "df.head()"
   ]
  },
  {
   "cell_type": "code",
   "execution_count": 5,
   "id": "846a47b2",
   "metadata": {},
   "outputs": [
    {
     "data": {
      "text/html": [
       "<div>\n",
       "<style scoped>\n",
       "    .dataframe tbody tr th:only-of-type {\n",
       "        vertical-align: middle;\n",
       "    }\n",
       "\n",
       "    .dataframe tbody tr th {\n",
       "        vertical-align: top;\n",
       "    }\n",
       "\n",
       "    .dataframe thead th {\n",
       "        text-align: right;\n",
       "    }\n",
       "</style>\n",
       "<table border=\"1\" class=\"dataframe\">\n",
       "  <thead>\n",
       "    <tr style=\"text-align: right;\">\n",
       "      <th></th>\n",
       "      <th>name</th>\n",
       "      <th>ns_name</th>\n",
       "      <th>url_name</th>\n",
       "      <th>url</th>\n",
       "    </tr>\n",
       "  </thead>\n",
       "  <tbody>\n",
       "    <tr>\n",
       "      <th>1</th>\n",
       "      <td>Souris - Elmira</td>\n",
       "      <td>Souris-Elmira</td>\n",
       "      <td>souris-elmira</td>\n",
       "      <td>/boundaries/prince-edward-island-electoral-districts-2017/souris-elmira/</td>\n",
       "    </tr>\n",
       "    <tr>\n",
       "      <th>2</th>\n",
       "      <td>Georgetown - Pownal</td>\n",
       "      <td>Georgetown-Pownal</td>\n",
       "      <td>georgetown-pownal</td>\n",
       "      <td>/boundaries/prince-edward-island-electoral-districts-2017/georgetown-pownal/</td>\n",
       "    </tr>\n",
       "    <tr>\n",
       "      <th>3</th>\n",
       "      <td>Montague - Kilmuir</td>\n",
       "      <td>Montague-Kilmuir</td>\n",
       "      <td>montague-kilmuir</td>\n",
       "      <td>/boundaries/prince-edward-island-electoral-districts-2017/montague-kilmuir/</td>\n",
       "    </tr>\n",
       "    <tr>\n",
       "      <th>4</th>\n",
       "      <td>Belfast - Murray River</td>\n",
       "      <td>Belfast-Murray River</td>\n",
       "      <td>belfast-murray-river</td>\n",
       "      <td>/boundaries/prince-edward-island-electoral-districts-2017/belfast-murray-river/</td>\n",
       "    </tr>\n",
       "    <tr>\n",
       "      <th>5</th>\n",
       "      <td>Mermaid - Stratford</td>\n",
       "      <td>Mermaid-Stratford</td>\n",
       "      <td>mermaid-stratford</td>\n",
       "      <td>/boundaries/prince-edward-island-electoral-districts-2017/mermaid-stratford/</td>\n",
       "    </tr>\n",
       "  </tbody>\n",
       "</table>\n",
       "</div>"
      ],
      "text/plain": [
       "                     name               ns_name              url_name  \\\n",
       "1         Souris - Elmira         Souris-Elmira         souris-elmira   \n",
       "2     Georgetown - Pownal     Georgetown-Pownal     georgetown-pownal   \n",
       "3      Montague - Kilmuir      Montague-Kilmuir      montague-kilmuir   \n",
       "4  Belfast - Murray River  Belfast-Murray River  belfast-murray-river   \n",
       "5     Mermaid - Stratford     Mermaid-Stratford     mermaid-stratford   \n",
       "\n",
       "                                                                               url  \n",
       "1         /boundaries/prince-edward-island-electoral-districts-2017/souris-elmira/  \n",
       "2     /boundaries/prince-edward-island-electoral-districts-2017/georgetown-pownal/  \n",
       "3      /boundaries/prince-edward-island-electoral-districts-2017/montague-kilmuir/  \n",
       "4  /boundaries/prince-edward-island-electoral-districts-2017/belfast-murray-river/  \n",
       "5     /boundaries/prince-edward-island-electoral-districts-2017/mermaid-stratford/  "
      ]
     },
     "execution_count": 5,
     "metadata": {},
     "output_type": "execute_result"
    }
   ],
   "source": [
    "# Clean up the data for our use.\n",
    "df['external_id'] = pd.to_numeric(df['external_id'])\n",
    "df = df.set_index('external_id').drop(columns=['related', 'boundary_set_name']).sort_index()\n",
    "df.index.name = None\n",
    "df['url_name'] = df['url'].str.replace('/boundaries/prince-edward-island-electoral-districts-2017/', '').str.replace('/', '')\n",
    "df['ns_name'] = df['name'].str.replace(' - ', '-')\n",
    "df = df[['name', 'ns_name', 'url_name', 'url']]\n",
    "df.head()"
   ]
  },
  {
   "cell_type": "code",
   "execution_count": 6,
   "id": "d9f3a905",
   "metadata": {},
   "outputs": [],
   "source": [
    "# Save the DF.\n",
    "df.to_csv('elections_transformed/05_2019_pe_district_api_links.csv')"
   ]
  }
 ],
 "metadata": {
  "kernelspec": {
   "display_name": "mlenv",
   "language": "python",
   "name": "mlenv"
  },
  "language_info": {
   "codemirror_mode": {
    "name": "ipython",
    "version": 3
   },
   "file_extension": ".py",
   "mimetype": "text/x-python",
   "name": "python",
   "nbconvert_exporter": "python",
   "pygments_lexer": "ipython3",
   "version": "3.7.10"
  }
 },
 "nbformat": 4,
 "nbformat_minor": 5
}
