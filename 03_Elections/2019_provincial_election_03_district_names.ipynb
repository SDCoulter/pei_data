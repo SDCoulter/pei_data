{
 "cells": [
  {
   "cell_type": "markdown",
   "id": "d1302180",
   "metadata": {},
   "source": [
    "# Elections PEI - 2019 Provincial Election\n",
    "\n",
    "Scraping data from the [Elections PEI](https://www.electionspei.ca/2019-election-results) website, we form simple datasets to be used in visualizations in our web app and future analysis."
   ]
  },
  {
   "cell_type": "code",
   "execution_count": 1,
   "id": "cdd0c910",
   "metadata": {},
   "outputs": [],
   "source": [
    "# Dependencies.\n",
    "import pandas as pd\n",
    "from bs4 import BeautifulSoup\n",
    "import urllib.request\n",
    "import pickle"
   ]
  },
  {
   "cell_type": "code",
   "execution_count": 2,
   "id": "fb020670",
   "metadata": {},
   "outputs": [],
   "source": [
    "# Get data from webpage and create bs4 soup for parsing.\n",
    "source = urllib.request.urlopen('https://www.electionspei.ca/2019-election-results').read()\n",
    "soup = BeautifulSoup(source, 'html.parser')"
   ]
  },
  {
   "cell_type": "code",
   "execution_count": 3,
   "id": "502c05ca",
   "metadata": {},
   "outputs": [],
   "source": [
    "# Get the needed urls from the webpage.\n",
    "urls = soup.find_all('a', {'data-entity-type': 'node'})"
   ]
  },
  {
   "cell_type": "code",
   "execution_count": 4,
   "id": "97de538a",
   "metadata": {},
   "outputs": [
    {
     "name": "stdout",
     "output_type": "stream",
     "text": [
      "2019 Referendum Results - not a district url.\n",
      "Careers - not a district url.\n"
     ]
    }
   ],
   "source": [
    "# Create list to store actual district urls.\n",
    "district_urls = []\n",
    "# Loop through urls to remove incorrect links.\n",
    "for url in urls:\n",
    "    try:\n",
    "        # If the text in the <a> tags cannot be turned into an int, it is not a district <a>.\n",
    "        int(url.text)\n",
    "        district_urls.append(url['href'])\n",
    "    except:\n",
    "        print(f\"{url.text} - not a district url.\")"
   ]
  },
  {
   "cell_type": "code",
   "execution_count": 5,
   "id": "dbd647e5",
   "metadata": {},
   "outputs": [
    {
     "data": {
      "text/plain": [
       "['/district-1-results-souris-elmira',\n",
       " '/district-2-results-georgetown-pownal',\n",
       " '/district-3-results-montague-kilmuir',\n",
       " '/district-4-results-belfast-murray-river',\n",
       " '/district-5-results-mermaid-stratford',\n",
       " '/district-6-results-stratford-keppoch',\n",
       " '/district-7-results-morell-donagh',\n",
       " '/district-8-results-stanhope-marshfield',\n",
       " '/district-9-results-charlottetown-hillsborough-park',\n",
       " '/district-10-results-charlottetown-winsloe',\n",
       " '/district-11-results-charlottetown-belvedere',\n",
       " '/district-12-results-charlottetown-victoria-park',\n",
       " '/district-13-results-charlottetown-brighton',\n",
       " '/district-14-results-charlottetown-west-royalty',\n",
       " '/district-15-results-brackley-hunter-river',\n",
       " '/district-16-results-cornwall-meadowbank',\n",
       " '/district-17-results-new-haven-rocky-point',\n",
       " '/district-18-results-rustico-emerald',\n",
       " '/district-19-results-borden-kinkora',\n",
       " '/district-20-results-kensington-malpeque',\n",
       " '/district-21-results-summerside-wilmot',\n",
       " '/district-22-results-summerside-south-drive',\n",
       " '/district-23-results-tyne-valley-sherbrooke',\n",
       " '/district-24-results-evangeline-miscouche',\n",
       " '/district-25-results-oleary-inverness',\n",
       " '/district-26-results-alberton-bloomfield',\n",
       " '/district-27-results-tignish-palmer-road']"
      ]
     },
     "execution_count": 5,
     "metadata": {},
     "output_type": "execute_result"
    }
   ],
   "source": [
    "# Check list of district data urls.\n",
    "district_urls"
   ]
  },
  {
   "cell_type": "code",
   "execution_count": 6,
   "id": "8ef8983d",
   "metadata": {},
   "outputs": [],
   "source": [
    "# Create dictionary to store information returned.\n",
    "district_dict = {}\n",
    "\n",
    "# Loop through each district url and store the bs4 info, as well as read the table with pd.\n",
    "for i, district_url in enumerate(district_urls, 1):\n",
    "\n",
    "    # Access source and create soup.\n",
    "    district_source = urllib.request.urlopen(f'https://www.electionspei.ca{district_url}')\n",
    "    district_soup = BeautifulSoup(district_source, 'html.parser')\n",
    "    \n",
    "    # Get district name from soup and store it.\n",
    "    district_name = district_soup.find_all('span', class_='field')[0].text.split('Results: ')[1]\n",
    "\n",
    "    # Get the first table as a dataframe.\n",
    "    district_df = pd.read_html(f'https://www.electionspei.ca{district_url}')[0]\n",
    "    \n",
    "    # Store both in dict with district number as key.\n",
    "    district_dict[i] = {'district_name': district_name, 'district_df': district_df}"
   ]
  },
  {
   "cell_type": "code",
   "execution_count": 7,
   "id": "752c56ab",
   "metadata": {},
   "outputs": [
    {
     "name": "stdout",
     "output_type": "stream",
     "text": [
      "File Saved.\n"
     ]
    }
   ],
   "source": [
    "# Save the returned dictionary with pickle.\n",
    "with open('elections_transformed/03_district_dict.pkl', 'wb') as f:\n",
    "    pickle.dump(district_dict, f, pickle.HIGHEST_PROTOCOL)\n",
    "\n",
    "print('File Saved.')"
   ]
  }
 ],
 "metadata": {
  "kernelspec": {
   "display_name": "mlenv",
   "language": "python",
   "name": "mlenv"
  },
  "language_info": {
   "codemirror_mode": {
    "name": "ipython",
    "version": 3
   },
   "file_extension": ".py",
   "mimetype": "text/x-python",
   "name": "python",
   "nbconvert_exporter": "python",
   "pygments_lexer": "ipython3",
   "version": "3.7.10"
  }
 },
 "nbformat": 4,
 "nbformat_minor": 5
}
