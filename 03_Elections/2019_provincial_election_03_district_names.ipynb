{
 "cells": [
  {
   "cell_type": "markdown",
   "id": "d1302180",
   "metadata": {},
   "source": [
    "# Elections PEI - 2019 Provincial Election\n",
    "\n",
    "Scraping data from the [Elections PEI](https://www.electionspei.ca/2019-election-results) website, we form simple datasets to be used in visualizations in our web app and future analysis."
   ]
  },
  {
   "cell_type": "code",
   "execution_count": 1,
   "id": "cdd0c910",
   "metadata": {},
   "outputs": [],
   "source": [
    "# Dependencies.\n",
    "import pandas as pd\n",
    "from bs4 import BeautifulSoup\n",
    "import urllib.request"
   ]
  },
  {
   "cell_type": "code",
   "execution_count": 2,
   "id": "bb9f5d73",
   "metadata": {},
   "outputs": [
    {
     "data": {
      "text/html": [
       "<div>\n",
       "<style scoped>\n",
       "    .dataframe tbody tr th:only-of-type {\n",
       "        vertical-align: middle;\n",
       "    }\n",
       "\n",
       "    .dataframe tbody tr th {\n",
       "        vertical-align: top;\n",
       "    }\n",
       "\n",
       "    .dataframe thead th {\n",
       "        text-align: right;\n",
       "    }\n",
       "</style>\n",
       "<table border=\"1\" class=\"dataframe\">\n",
       "  <thead>\n",
       "    <tr style=\"text-align: right;\">\n",
       "      <th></th>\n",
       "      <th>Green</th>\n",
       "      <th>Ind</th>\n",
       "      <th>Liberal</th>\n",
       "      <th>NDP</th>\n",
       "      <th>PC</th>\n",
       "    </tr>\n",
       "  </thead>\n",
       "  <tbody>\n",
       "    <tr>\n",
       "      <th>1</th>\n",
       "      <td>804</td>\n",
       "      <td>0</td>\n",
       "      <td>861</td>\n",
       "      <td>0</td>\n",
       "      <td>1347</td>\n",
       "    </tr>\n",
       "    <tr>\n",
       "      <th>2</th>\n",
       "      <td>865</td>\n",
       "      <td>0</td>\n",
       "      <td>663</td>\n",
       "      <td>49</td>\n",
       "      <td>1493</td>\n",
       "    </tr>\n",
       "    <tr>\n",
       "      <th>3</th>\n",
       "      <td>675</td>\n",
       "      <td>0</td>\n",
       "      <td>785</td>\n",
       "      <td>124</td>\n",
       "      <td>1373</td>\n",
       "    </tr>\n",
       "    <tr>\n",
       "      <th>4</th>\n",
       "      <td>781</td>\n",
       "      <td>0</td>\n",
       "      <td>615</td>\n",
       "      <td>0</td>\n",
       "      <td>1545</td>\n",
       "    </tr>\n",
       "    <tr>\n",
       "      <th>5</th>\n",
       "      <td>1152</td>\n",
       "      <td>0</td>\n",
       "      <td>902</td>\n",
       "      <td>38</td>\n",
       "      <td>934</td>\n",
       "    </tr>\n",
       "  </tbody>\n",
       "</table>\n",
       "</div>"
      ],
      "text/plain": [
       "   Green  Ind  Liberal  NDP    PC\n",
       "1    804    0      861    0  1347\n",
       "2    865    0      663   49  1493\n",
       "3    675    0      785  124  1373\n",
       "4    781    0      615    0  1545\n",
       "5   1152    0      902   38   934"
      ]
     },
     "execution_count": 2,
     "metadata": {},
     "output_type": "execute_result"
    }
   ],
   "source": [
    "# Data.\n",
    "df = pd.read_csv('elections_transformed/02b_2019_provincial_election_district_counts_by_dist.csv', index_col=0)\n",
    "df.index.name = None\n",
    "df.head()"
   ]
  },
  {
   "cell_type": "code",
   "execution_count": 3,
   "id": "91a90759",
   "metadata": {},
   "outputs": [],
   "source": [
    "# Get data from webpage and create bs4 soup for parsing.\n",
    "source = urllib.request.urlopen('https://www.electionspei.ca/2019-election-results').read()\n",
    "soup = BeautifulSoup(source, 'html.parser')"
   ]
  },
  {
   "cell_type": "code",
   "execution_count": 4,
   "id": "0d61497c",
   "metadata": {},
   "outputs": [],
   "source": [
    "# Get the needed urls from the webpage.\n",
    "urls = soup.find_all('a', {'data-entity-type': 'node'})"
   ]
  },
  {
   "cell_type": "code",
   "execution_count": 5,
   "id": "52492f7e",
   "metadata": {},
   "outputs": [
    {
     "name": "stdout",
     "output_type": "stream",
     "text": [
      "2019 Referendum Results - not a district url.\n",
      "Careers - not a district url.\n"
     ]
    }
   ],
   "source": [
    "# Create list to store actual district urls.\n",
    "district_urls = []\n",
    "# Loop through urls to remove incorrect links.\n",
    "for url in urls:\n",
    "    try:\n",
    "        # If the text in the <a> tags cannot be turned into an int, it is not a district <a>.\n",
    "        int(url.text)\n",
    "        district_urls.append(url['href'])\n",
    "    except:\n",
    "        print(f\"{url.text} - not a district url.\")"
   ]
  },
  {
   "cell_type": "code",
   "execution_count": 6,
   "id": "4e25c350",
   "metadata": {},
   "outputs": [
    {
     "data": {
      "text/plain": [
       "['/district-1-results-souris-elmira',\n",
       " '/district-2-results-georgetown-pownal',\n",
       " '/district-3-results-montague-kilmuir',\n",
       " '/district-4-results-belfast-murray-river',\n",
       " '/district-5-results-mermaid-stratford',\n",
       " '/district-6-results-stratford-keppoch',\n",
       " '/district-7-results-morell-donagh',\n",
       " '/district-8-results-stanhope-marshfield',\n",
       " '/district-9-results-charlottetown-hillsborough-park',\n",
       " '/district-10-results-charlottetown-winsloe',\n",
       " '/district-11-results-charlottetown-belvedere',\n",
       " '/district-12-results-charlottetown-victoria-park',\n",
       " '/district-13-results-charlottetown-brighton',\n",
       " '/district-14-results-charlottetown-west-royalty',\n",
       " '/district-15-results-brackley-hunter-river',\n",
       " '/district-16-results-cornwall-meadowbank',\n",
       " '/district-17-results-new-haven-rocky-point',\n",
       " '/district-18-results-rustico-emerald',\n",
       " '/district-19-results-borden-kinkora',\n",
       " '/district-20-results-kensington-malpeque',\n",
       " '/district-21-results-summerside-wilmot',\n",
       " '/district-22-results-summerside-south-drive',\n",
       " '/district-23-results-tyne-valley-sherbrooke',\n",
       " '/district-24-results-evangeline-miscouche',\n",
       " '/district-25-results-oleary-inverness',\n",
       " '/district-26-results-alberton-bloomfield',\n",
       " '/district-27-results-tignish-palmer-road']"
      ]
     },
     "execution_count": 6,
     "metadata": {},
     "output_type": "execute_result"
    }
   ],
   "source": [
    "# Check list of district data urls.\n",
    "district_urls"
   ]
  },
  {
   "cell_type": "code",
   "execution_count": 7,
   "id": "a1fcda0f",
   "metadata": {},
   "outputs": [
    {
     "data": {
      "text/plain": [
       "['/district-1-results-souris-elmira']"
      ]
     },
     "execution_count": 7,
     "metadata": {},
     "output_type": "execute_result"
    }
   ],
   "source": [
    "# Temporarily only run on the first url - delete when doing final run.\n",
    "district_urls = [district_urls[0]]\n",
    "district_urls"
   ]
  },
  {
   "cell_type": "code",
   "execution_count": 8,
   "id": "631c15d3",
   "metadata": {},
   "outputs": [],
   "source": [
    "# Create dictionary to store information returned.\n",
    "district_dict = {}\n",
    "\n",
    "# Loop through each district url and store the bs4 info, as well as read the table with pd.\n",
    "for i, district_url in enumerate(district_urls, 1):\n",
    "\n",
    "    # Access source and create soup.\n",
    "    district_source = urllib.request.urlopen(f'https://www.electionspei.ca{district_url}')\n",
    "    district_soup = BeautifulSoup(district_source, 'html.parser')\n",
    "    \n",
    "    # Get district name from soup and store it.\n",
    "    district_name = district_soup.find_all('span', class_='field')[0].text.split('Results: ')[1]\n",
    "\n",
    "    # Get the first table as a dataframe.\n",
    "    district_df = pd.read_html(f'https://www.electionspei.ca{district_url}')[0]\n",
    "    \n",
    "    # Store both in dict with district number as key.\n",
    "    district_dict[i] = {'district_name': district_name, 'district_df': district_df}"
   ]
  },
  {
   "cell_type": "code",
   "execution_count": 9,
   "id": "2e214774",
   "metadata": {},
   "outputs": [],
   "source": [
    "# Loop through all district dataframes and fix them."
   ]
  }
 ],
 "metadata": {
  "kernelspec": {
   "display_name": "mlenv",
   "language": "python",
   "name": "mlenv"
  },
  "language_info": {
   "codemirror_mode": {
    "name": "ipython",
    "version": 3
   },
   "file_extension": ".py",
   "mimetype": "text/x-python",
   "name": "python",
   "nbconvert_exporter": "python",
   "pygments_lexer": "ipython3",
   "version": "3.7.10"
  }
 },
 "nbformat": 4,
 "nbformat_minor": 5
}
