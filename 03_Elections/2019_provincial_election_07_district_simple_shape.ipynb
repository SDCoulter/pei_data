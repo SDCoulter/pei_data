{
 "cells": [
  {
   "cell_type": "markdown",
   "id": "cb3d2f35",
   "metadata": {},
   "source": [
    "# Gathering District Information\n",
    "\n",
    "Using the API provided by [Represent Open North](https://represent.opennorth.ca/) we will procure data (including boundaries, etc) about each district."
   ]
  },
  {
   "cell_type": "code",
   "execution_count": 1,
   "id": "44a48ce1",
   "metadata": {},
   "outputs": [],
   "source": [
    "# Dependencies.\n",
    "import pandas as pd\n",
    "import urllib.request, json"
   ]
  },
  {
   "cell_type": "code",
   "execution_count": 2,
   "id": "2c4dcb9b",
   "metadata": {},
   "outputs": [],
   "source": [
    "# Make the DF easier to view.\n",
    "pd.set_option('display.max_colwidth',1000)"
   ]
  },
  {
   "cell_type": "code",
   "execution_count": 3,
   "id": "b59564df",
   "metadata": {},
   "outputs": [
    {
     "data": {
      "text/html": [
       "<div>\n",
       "<style scoped>\n",
       "    .dataframe tbody tr th:only-of-type {\n",
       "        vertical-align: middle;\n",
       "    }\n",
       "\n",
       "    .dataframe tbody tr th {\n",
       "        vertical-align: top;\n",
       "    }\n",
       "\n",
       "    .dataframe thead th {\n",
       "        text-align: right;\n",
       "    }\n",
       "</style>\n",
       "<table border=\"1\" class=\"dataframe\">\n",
       "  <thead>\n",
       "    <tr style=\"text-align: right;\">\n",
       "      <th></th>\n",
       "      <th>name</th>\n",
       "      <th>ns_name</th>\n",
       "      <th>url_name</th>\n",
       "      <th>url</th>\n",
       "      <th>representatives_url</th>\n",
       "      <th>simple_shape_url</th>\n",
       "      <th>centroid_url</th>\n",
       "      <th>shape_url</th>\n",
       "    </tr>\n",
       "  </thead>\n",
       "  <tbody>\n",
       "    <tr>\n",
       "      <th>1</th>\n",
       "      <td>Souris - Elmira</td>\n",
       "      <td>Souris-Elmira</td>\n",
       "      <td>souris-elmira</td>\n",
       "      <td>/boundaries/prince-edward-island-electoral-districts-2017/souris-elmira/</td>\n",
       "      <td>/boundaries/prince-edward-island-electoral-districts-2017/souris-elmira/representatives/</td>\n",
       "      <td>/boundaries/prince-edward-island-electoral-districts-2017/souris-elmira/simple_shape</td>\n",
       "      <td>/boundaries/prince-edward-island-electoral-districts-2017/souris-elmira/centroid</td>\n",
       "      <td>/boundaries/prince-edward-island-electoral-districts-2017/souris-elmira/shape</td>\n",
       "    </tr>\n",
       "    <tr>\n",
       "      <th>2</th>\n",
       "      <td>Georgetown - Pownal</td>\n",
       "      <td>Georgetown-Pownal</td>\n",
       "      <td>georgetown-pownal</td>\n",
       "      <td>/boundaries/prince-edward-island-electoral-districts-2017/georgetown-pownal/</td>\n",
       "      <td>/boundaries/prince-edward-island-electoral-districts-2017/georgetown-pownal/representatives/</td>\n",
       "      <td>/boundaries/prince-edward-island-electoral-districts-2017/georgetown-pownal/simple_shape</td>\n",
       "      <td>/boundaries/prince-edward-island-electoral-districts-2017/georgetown-pownal/centroid</td>\n",
       "      <td>/boundaries/prince-edward-island-electoral-districts-2017/georgetown-pownal/shape</td>\n",
       "    </tr>\n",
       "    <tr>\n",
       "      <th>3</th>\n",
       "      <td>Montague - Kilmuir</td>\n",
       "      <td>Montague-Kilmuir</td>\n",
       "      <td>montague-kilmuir</td>\n",
       "      <td>/boundaries/prince-edward-island-electoral-districts-2017/montague-kilmuir/</td>\n",
       "      <td>/boundaries/prince-edward-island-electoral-districts-2017/montague-kilmuir/representatives/</td>\n",
       "      <td>/boundaries/prince-edward-island-electoral-districts-2017/montague-kilmuir/simple_shape</td>\n",
       "      <td>/boundaries/prince-edward-island-electoral-districts-2017/montague-kilmuir/centroid</td>\n",
       "      <td>/boundaries/prince-edward-island-electoral-districts-2017/montague-kilmuir/shape</td>\n",
       "    </tr>\n",
       "    <tr>\n",
       "      <th>4</th>\n",
       "      <td>Belfast - Murray River</td>\n",
       "      <td>Belfast-Murray River</td>\n",
       "      <td>belfast-murray-river</td>\n",
       "      <td>/boundaries/prince-edward-island-electoral-districts-2017/belfast-murray-river/</td>\n",
       "      <td>/boundaries/prince-edward-island-electoral-districts-2017/belfast-murray-river/representatives/</td>\n",
       "      <td>/boundaries/prince-edward-island-electoral-districts-2017/belfast-murray-river/simple_shape</td>\n",
       "      <td>/boundaries/prince-edward-island-electoral-districts-2017/belfast-murray-river/centroid</td>\n",
       "      <td>/boundaries/prince-edward-island-electoral-districts-2017/belfast-murray-river/shape</td>\n",
       "    </tr>\n",
       "    <tr>\n",
       "      <th>5</th>\n",
       "      <td>Mermaid - Stratford</td>\n",
       "      <td>Mermaid-Stratford</td>\n",
       "      <td>mermaid-stratford</td>\n",
       "      <td>/boundaries/prince-edward-island-electoral-districts-2017/mermaid-stratford/</td>\n",
       "      <td>/boundaries/prince-edward-island-electoral-districts-2017/mermaid-stratford/representatives/</td>\n",
       "      <td>/boundaries/prince-edward-island-electoral-districts-2017/mermaid-stratford/simple_shape</td>\n",
       "      <td>/boundaries/prince-edward-island-electoral-districts-2017/mermaid-stratford/centroid</td>\n",
       "      <td>/boundaries/prince-edward-island-electoral-districts-2017/mermaid-stratford/shape</td>\n",
       "    </tr>\n",
       "  </tbody>\n",
       "</table>\n",
       "</div>"
      ],
      "text/plain": [
       "                     name               ns_name              url_name  \\\n",
       "1         Souris - Elmira         Souris-Elmira         souris-elmira   \n",
       "2     Georgetown - Pownal     Georgetown-Pownal     georgetown-pownal   \n",
       "3      Montague - Kilmuir      Montague-Kilmuir      montague-kilmuir   \n",
       "4  Belfast - Murray River  Belfast-Murray River  belfast-murray-river   \n",
       "5     Mermaid - Stratford     Mermaid-Stratford     mermaid-stratford   \n",
       "\n",
       "                                                                               url  \\\n",
       "1         /boundaries/prince-edward-island-electoral-districts-2017/souris-elmira/   \n",
       "2     /boundaries/prince-edward-island-electoral-districts-2017/georgetown-pownal/   \n",
       "3      /boundaries/prince-edward-island-electoral-districts-2017/montague-kilmuir/   \n",
       "4  /boundaries/prince-edward-island-electoral-districts-2017/belfast-murray-river/   \n",
       "5     /boundaries/prince-edward-island-electoral-districts-2017/mermaid-stratford/   \n",
       "\n",
       "                                                                               representatives_url  \\\n",
       "1         /boundaries/prince-edward-island-electoral-districts-2017/souris-elmira/representatives/   \n",
       "2     /boundaries/prince-edward-island-electoral-districts-2017/georgetown-pownal/representatives/   \n",
       "3      /boundaries/prince-edward-island-electoral-districts-2017/montague-kilmuir/representatives/   \n",
       "4  /boundaries/prince-edward-island-electoral-districts-2017/belfast-murray-river/representatives/   \n",
       "5     /boundaries/prince-edward-island-electoral-districts-2017/mermaid-stratford/representatives/   \n",
       "\n",
       "                                                                              simple_shape_url  \\\n",
       "1         /boundaries/prince-edward-island-electoral-districts-2017/souris-elmira/simple_shape   \n",
       "2     /boundaries/prince-edward-island-electoral-districts-2017/georgetown-pownal/simple_shape   \n",
       "3      /boundaries/prince-edward-island-electoral-districts-2017/montague-kilmuir/simple_shape   \n",
       "4  /boundaries/prince-edward-island-electoral-districts-2017/belfast-murray-river/simple_shape   \n",
       "5     /boundaries/prince-edward-island-electoral-districts-2017/mermaid-stratford/simple_shape   \n",
       "\n",
       "                                                                              centroid_url  \\\n",
       "1         /boundaries/prince-edward-island-electoral-districts-2017/souris-elmira/centroid   \n",
       "2     /boundaries/prince-edward-island-electoral-districts-2017/georgetown-pownal/centroid   \n",
       "3      /boundaries/prince-edward-island-electoral-districts-2017/montague-kilmuir/centroid   \n",
       "4  /boundaries/prince-edward-island-electoral-districts-2017/belfast-murray-river/centroid   \n",
       "5     /boundaries/prince-edward-island-electoral-districts-2017/mermaid-stratford/centroid   \n",
       "\n",
       "                                                                              shape_url  \n",
       "1         /boundaries/prince-edward-island-electoral-districts-2017/souris-elmira/shape  \n",
       "2     /boundaries/prince-edward-island-electoral-districts-2017/georgetown-pownal/shape  \n",
       "3      /boundaries/prince-edward-island-electoral-districts-2017/montague-kilmuir/shape  \n",
       "4  /boundaries/prince-edward-island-electoral-districts-2017/belfast-murray-river/shape  \n",
       "5     /boundaries/prince-edward-island-electoral-districts-2017/mermaid-stratford/shape  "
      ]
     },
     "execution_count": 3,
     "metadata": {},
     "output_type": "execute_result"
    }
   ],
   "source": [
    "# Load DF.\n",
    "full_df = pd.read_csv('elections_transformed/06_2019_pe_district_shape_links.csv', index_col=0)\n",
    "full_df.head()"
   ]
  },
  {
   "cell_type": "code",
   "execution_count": 4,
   "id": "3e3b15c0",
   "metadata": {},
   "outputs": [
    {
     "data": {
      "text/html": [
       "<div>\n",
       "<style scoped>\n",
       "    .dataframe tbody tr th:only-of-type {\n",
       "        vertical-align: middle;\n",
       "    }\n",
       "\n",
       "    .dataframe tbody tr th {\n",
       "        vertical-align: top;\n",
       "    }\n",
       "\n",
       "    .dataframe thead th {\n",
       "        text-align: right;\n",
       "    }\n",
       "</style>\n",
       "<table border=\"1\" class=\"dataframe\">\n",
       "  <thead>\n",
       "    <tr style=\"text-align: right;\">\n",
       "      <th></th>\n",
       "      <th>simple_shape_url</th>\n",
       "    </tr>\n",
       "  </thead>\n",
       "  <tbody>\n",
       "    <tr>\n",
       "      <th>1</th>\n",
       "      <td>/boundaries/prince-edward-island-electoral-districts-2017/souris-elmira/simple_shape</td>\n",
       "    </tr>\n",
       "    <tr>\n",
       "      <th>2</th>\n",
       "      <td>/boundaries/prince-edward-island-electoral-districts-2017/georgetown-pownal/simple_shape</td>\n",
       "    </tr>\n",
       "    <tr>\n",
       "      <th>3</th>\n",
       "      <td>/boundaries/prince-edward-island-electoral-districts-2017/montague-kilmuir/simple_shape</td>\n",
       "    </tr>\n",
       "    <tr>\n",
       "      <th>4</th>\n",
       "      <td>/boundaries/prince-edward-island-electoral-districts-2017/belfast-murray-river/simple_shape</td>\n",
       "    </tr>\n",
       "    <tr>\n",
       "      <th>5</th>\n",
       "      <td>/boundaries/prince-edward-island-electoral-districts-2017/mermaid-stratford/simple_shape</td>\n",
       "    </tr>\n",
       "  </tbody>\n",
       "</table>\n",
       "</div>"
      ],
      "text/plain": [
       "                                                                              simple_shape_url\n",
       "1         /boundaries/prince-edward-island-electoral-districts-2017/souris-elmira/simple_shape\n",
       "2     /boundaries/prince-edward-island-electoral-districts-2017/georgetown-pownal/simple_shape\n",
       "3      /boundaries/prince-edward-island-electoral-districts-2017/montague-kilmuir/simple_shape\n",
       "4  /boundaries/prince-edward-island-electoral-districts-2017/belfast-murray-river/simple_shape\n",
       "5     /boundaries/prince-edward-island-electoral-districts-2017/mermaid-stratford/simple_shape"
      ]
     },
     "execution_count": 4,
     "metadata": {},
     "output_type": "execute_result"
    }
   ],
   "source": [
    "# Create a new DF to store the returned shapes.\n",
    "# Names protected by the index.\n",
    "df = full_df[['simple_shape_url']].copy()\n",
    "df.head()"
   ]
  },
  {
   "cell_type": "code",
   "execution_count": 5,
   "id": "bb26eeaa",
   "metadata": {},
   "outputs": [
    {
     "name": "stdout",
     "output_type": "stream",
     "text": [
      "1 returned. 2 returned. 3 returned. 4 returned. 5 returned. 6 returned. 7 returned. 8 returned. 9 returned. 10 returned. 11 returned. 12 returned. 13 returned. 14 returned. 15 returned. 16 returned. 17 returned. 18 returned. 19 returned. 20 returned. 21 returned. 22 returned. 23 returned. 24 returned. 25 returned. 26 returned. 27 returned. "
     ]
    }
   ],
   "source": [
    "shape_details = []\n",
    "\n",
    "# Loop through URLs, get coordinates.\n",
    "for i, url in enumerate(df['simple_shape_url'].unique(), 1):\n",
    "    with urllib.request.urlopen(f'https://represent.opennorth.ca{url}') as u:\n",
    "        shape_details.append(json.loads(u.read().decode()))\n",
    "\n",
    "    print(f'{len(shape_details)} returned.', end=' ')"
   ]
  },
  {
   "cell_type": "code",
   "execution_count": 6,
   "id": "42e9c1f0",
   "metadata": {},
   "outputs": [
    {
     "data": {
      "text/html": [
       "<div>\n",
       "<style scoped>\n",
       "    .dataframe tbody tr th:only-of-type {\n",
       "        vertical-align: middle;\n",
       "    }\n",
       "\n",
       "    .dataframe tbody tr th {\n",
       "        vertical-align: top;\n",
       "    }\n",
       "\n",
       "    .dataframe thead th {\n",
       "        text-align: right;\n",
       "    }\n",
       "</style>\n",
       "<table border=\"1\" class=\"dataframe\">\n",
       "  <thead>\n",
       "    <tr style=\"text-align: right;\">\n",
       "      <th></th>\n",
       "      <th>simple_shape_url</th>\n",
       "      <th>shape_coords</th>\n",
       "    </tr>\n",
       "  </thead>\n",
       "  <tbody>\n",
       "    <tr>\n",
       "      <th>1</th>\n",
       "      <td>/boundaries/prince-edward-island-electoral-districts-2017/souris-elmira/simple_shape</td>\n",
       "      <td>{'type': 'MultiPolygon', 'coordinates': [[[[-62.30193906235752, 46.38321265770228], [-62.30028116779229, 46.38324293681658], [-62.299865414661106, 46.382718571008894], [-62.29865512281889, 46.382315248251814], [-62.29649603156064, 46.38240085546293], [-62.29518661612012, 46.38052143804876], [-62.29215513727051, 46.37882470677924], [-62.2929036027819, 46.377646314725006], [-62.29298725043562, 46.37671118691223], [-62.29220722674232, 46.375221881689036], [-62.29224915400528, 46.37459687853618], [-62.2911950758377, 46.37319582756458], [-62.29063017723259, 46.37166286923815], [-62.28960740951799, 46.37135509000707], [-62.288432262779565, 46.37027713060302], [-62.287529418088305, 46.368754635286095], [-62.28651520668064, 46.36780002217427], [-62.281843289540426, 46.365809292947475], [-62.28119165776914, 46.36585015347795], [-62.28117308926856, 46.36538670910137], [-62.279774528295945, 46.363439070894124], [-62.2794670734353, 46.36222167091066], [-62.28116125596737, 46.3597907259646], [-...</td>\n",
       "    </tr>\n",
       "    <tr>\n",
       "      <th>2</th>\n",
       "      <td>/boundaries/prince-edward-island-electoral-districts-2017/georgetown-pownal/simple_shape</td>\n",
       "      <td>{'type': 'MultiPolygon', 'coordinates': [[[[-62.692784101408456, 46.25713089897041], [-62.691956202608615, 46.25668759943612], [-62.69206780026245, 46.2553018995078], [-62.68710359664863, 46.243012501268254], [-62.68604730143255, 46.241731598544085], [-62.683347003123856, 46.23536120126771], [-62.673841504394105, 46.21107050099074], [-62.669875799815024, 46.210852099918284], [-62.67194921892749, 46.209959782004994], [-62.67393773984025, 46.20839109283052], [-62.67807350457044, 46.20850833170119], [-62.683225500385674, 46.211393900014], [-62.68534451464446, 46.20879341420993], [-62.69260030063522, 46.21181140014953], [-62.69627875172703, 46.209255566402994], [-62.707433271170075, 46.20914419741064], [-62.71186190188127, 46.21157760049397], [-62.71450904645806, 46.208748105057275], [-62.71674356120279, 46.20865343457524], [-62.726432570847315, 46.2097101332118], [-62.75386191895614, 46.21058001592312], [-62.75799280131757, 46.21340360150944], [-62.76153540146796, 46.21083939125454], ...</td>\n",
       "    </tr>\n",
       "  </tbody>\n",
       "</table>\n",
       "</div>"
      ],
      "text/plain": [
       "                                                                           simple_shape_url  \\\n",
       "1      /boundaries/prince-edward-island-electoral-districts-2017/souris-elmira/simple_shape   \n",
       "2  /boundaries/prince-edward-island-electoral-districts-2017/georgetown-pownal/simple_shape   \n",
       "\n",
       "                                                                                                                                                                                                                                                                                                                                                                                                                                                                                                                                                                                                                                                                                                                                                                                                                                                                                                                                                                                                                              shape_coords  \n",
       "1  {'type': 'MultiPolygon', 'coordinates': [[[[-62.30193906235752, 46.38321265770228], [-62.30028116779229, 46.38324293681658], [-62.299865414661106, 46.382718571008894], [-62.29865512281889, 46.382315248251814], [-62.29649603156064, 46.38240085546293], [-62.29518661612012, 46.38052143804876], [-62.29215513727051, 46.37882470677924], [-62.2929036027819, 46.377646314725006], [-62.29298725043562, 46.37671118691223], [-62.29220722674232, 46.375221881689036], [-62.29224915400528, 46.37459687853618], [-62.2911950758377, 46.37319582756458], [-62.29063017723259, 46.37166286923815], [-62.28960740951799, 46.37135509000707], [-62.288432262779565, 46.37027713060302], [-62.287529418088305, 46.368754635286095], [-62.28651520668064, 46.36780002217427], [-62.281843289540426, 46.365809292947475], [-62.28119165776914, 46.36585015347795], [-62.28117308926856, 46.36538670910137], [-62.279774528295945, 46.363439070894124], [-62.2794670734353, 46.36222167091066], [-62.28116125596737, 46.3597907259646], [-...  \n",
       "2  {'type': 'MultiPolygon', 'coordinates': [[[[-62.692784101408456, 46.25713089897041], [-62.691956202608615, 46.25668759943612], [-62.69206780026245, 46.2553018995078], [-62.68710359664863, 46.243012501268254], [-62.68604730143255, 46.241731598544085], [-62.683347003123856, 46.23536120126771], [-62.673841504394105, 46.21107050099074], [-62.669875799815024, 46.210852099918284], [-62.67194921892749, 46.209959782004994], [-62.67393773984025, 46.20839109283052], [-62.67807350457044, 46.20850833170119], [-62.683225500385674, 46.211393900014], [-62.68534451464446, 46.20879341420993], [-62.69260030063522, 46.21181140014953], [-62.69627875172703, 46.209255566402994], [-62.707433271170075, 46.20914419741064], [-62.71186190188127, 46.21157760049397], [-62.71450904645806, 46.208748105057275], [-62.71674356120279, 46.20865343457524], [-62.726432570847315, 46.2097101332118], [-62.75386191895614, 46.21058001592312], [-62.75799280131757, 46.21340360150944], [-62.76153540146796, 46.21083939125454], ...  "
      ]
     },
     "execution_count": 6,
     "metadata": {},
     "output_type": "execute_result"
    }
   ],
   "source": [
    "# Set new column to the returned coordinates.\n",
    "df['shape_coords'] = shape_details\n",
    "df.head(2)"
   ]
  },
  {
   "cell_type": "code",
   "execution_count": 7,
   "id": "63dd3309",
   "metadata": {},
   "outputs": [
    {
     "name": "stdout",
     "output_type": "stream",
     "text": [
      "1 returned. 2 returned. 3 returned. 4 returned. 5 returned. 6 returned. 7 returned. 8 returned. 9 returned. 10 returned. 11 returned. 12 returned. 13 returned. 14 returned. 15 returned. 16 returned. 17 returned. 18 returned. 19 returned. 20 returned. 21 returned. 22 returned. 23 returned. 24 returned. 25 returned. 26 returned. 27 returned. "
     ]
    }
   ],
   "source": [
    "shape_details = []\n",
    "c_df = full_df[['centroid_url']].copy()\n",
    "\n",
    "# Loop through URLs, get CENTROID coordinates.\n",
    "for i, url in enumerate(c_df['centroid_url'].unique(), 1):\n",
    "    with urllib.request.urlopen(f'https://represent.opennorth.ca{url}') as u:\n",
    "        shape_details.append(json.loads(u.read().decode()))\n",
    "\n",
    "    print(f'{len(shape_details)} returned.', end=' ')"
   ]
  },
  {
   "cell_type": "code",
   "execution_count": 8,
   "id": "0088140b",
   "metadata": {},
   "outputs": [
    {
     "data": {
      "text/html": [
       "<div>\n",
       "<style scoped>\n",
       "    .dataframe tbody tr th:only-of-type {\n",
       "        vertical-align: middle;\n",
       "    }\n",
       "\n",
       "    .dataframe tbody tr th {\n",
       "        vertical-align: top;\n",
       "    }\n",
       "\n",
       "    .dataframe thead th {\n",
       "        text-align: right;\n",
       "    }\n",
       "</style>\n",
       "<table border=\"1\" class=\"dataframe\">\n",
       "  <thead>\n",
       "    <tr style=\"text-align: right;\">\n",
       "      <th></th>\n",
       "      <th>centroid_url</th>\n",
       "      <th>centroid_coords</th>\n",
       "    </tr>\n",
       "  </thead>\n",
       "  <tbody>\n",
       "    <tr>\n",
       "      <th>1</th>\n",
       "      <td>/boundaries/prince-edward-island-electoral-districts-2017/souris-elmira/centroid</td>\n",
       "      <td>{'type': 'Point', 'coordinates': [-62.31139346061274, 46.39551690439803]}</td>\n",
       "    </tr>\n",
       "    <tr>\n",
       "      <th>2</th>\n",
       "      <td>/boundaries/prince-edward-island-electoral-districts-2017/georgetown-pownal/centroid</td>\n",
       "      <td>{'type': 'Point', 'coordinates': [-62.727308633550344, 46.23957261711341]}</td>\n",
       "    </tr>\n",
       "  </tbody>\n",
       "</table>\n",
       "</div>"
      ],
      "text/plain": [
       "                                                                           centroid_url  \\\n",
       "1      /boundaries/prince-edward-island-electoral-districts-2017/souris-elmira/centroid   \n",
       "2  /boundaries/prince-edward-island-electoral-districts-2017/georgetown-pownal/centroid   \n",
       "\n",
       "                                                              centroid_coords  \n",
       "1   {'type': 'Point', 'coordinates': [-62.31139346061274, 46.39551690439803]}  \n",
       "2  {'type': 'Point', 'coordinates': [-62.727308633550344, 46.23957261711341]}  "
      ]
     },
     "execution_count": 8,
     "metadata": {},
     "output_type": "execute_result"
    }
   ],
   "source": [
    "# As before.\n",
    "c_df['centroid_coords'] = shape_details\n",
    "c_df.head(2)"
   ]
  },
  {
   "cell_type": "code",
   "execution_count": 9,
   "id": "82fa9c56",
   "metadata": {},
   "outputs": [
    {
     "data": {
      "text/html": [
       "<div>\n",
       "<style scoped>\n",
       "    .dataframe tbody tr th:only-of-type {\n",
       "        vertical-align: middle;\n",
       "    }\n",
       "\n",
       "    .dataframe tbody tr th {\n",
       "        vertical-align: top;\n",
       "    }\n",
       "\n",
       "    .dataframe thead th {\n",
       "        text-align: right;\n",
       "    }\n",
       "</style>\n",
       "<table border=\"1\" class=\"dataframe\">\n",
       "  <thead>\n",
       "    <tr style=\"text-align: right;\">\n",
       "      <th></th>\n",
       "      <th>shape_coords</th>\n",
       "      <th>centroid_coords</th>\n",
       "    </tr>\n",
       "  </thead>\n",
       "  <tbody>\n",
       "    <tr>\n",
       "      <th>1</th>\n",
       "      <td>{'type': 'MultiPolygon', 'coordinates': [[[[-62.30193906235752, 46.38321265770228], [-62.30028116779229, 46.38324293681658], [-62.299865414661106, 46.382718571008894], [-62.29865512281889, 46.382315248251814], [-62.29649603156064, 46.38240085546293], [-62.29518661612012, 46.38052143804876], [-62.29215513727051, 46.37882470677924], [-62.2929036027819, 46.377646314725006], [-62.29298725043562, 46.37671118691223], [-62.29220722674232, 46.375221881689036], [-62.29224915400528, 46.37459687853618], [-62.2911950758377, 46.37319582756458], [-62.29063017723259, 46.37166286923815], [-62.28960740951799, 46.37135509000707], [-62.288432262779565, 46.37027713060302], [-62.287529418088305, 46.368754635286095], [-62.28651520668064, 46.36780002217427], [-62.281843289540426, 46.365809292947475], [-62.28119165776914, 46.36585015347795], [-62.28117308926856, 46.36538670910137], [-62.279774528295945, 46.363439070894124], [-62.2794670734353, 46.36222167091066], [-62.28116125596737, 46.3597907259646], [-...</td>\n",
       "      <td>{'type': 'Point', 'coordinates': [-62.31139346061274, 46.39551690439803]}</td>\n",
       "    </tr>\n",
       "    <tr>\n",
       "      <th>2</th>\n",
       "      <td>{'type': 'MultiPolygon', 'coordinates': [[[[-62.692784101408456, 46.25713089897041], [-62.691956202608615, 46.25668759943612], [-62.69206780026245, 46.2553018995078], [-62.68710359664863, 46.243012501268254], [-62.68604730143255, 46.241731598544085], [-62.683347003123856, 46.23536120126771], [-62.673841504394105, 46.21107050099074], [-62.669875799815024, 46.210852099918284], [-62.67194921892749, 46.209959782004994], [-62.67393773984025, 46.20839109283052], [-62.67807350457044, 46.20850833170119], [-62.683225500385674, 46.211393900014], [-62.68534451464446, 46.20879341420993], [-62.69260030063522, 46.21181140014953], [-62.69627875172703, 46.209255566402994], [-62.707433271170075, 46.20914419741064], [-62.71186190188127, 46.21157760049397], [-62.71450904645806, 46.208748105057275], [-62.71674356120279, 46.20865343457524], [-62.726432570847315, 46.2097101332118], [-62.75386191895614, 46.21058001592312], [-62.75799280131757, 46.21340360150944], [-62.76153540146796, 46.21083939125454], ...</td>\n",
       "      <td>{'type': 'Point', 'coordinates': [-62.727308633550344, 46.23957261711341]}</td>\n",
       "    </tr>\n",
       "  </tbody>\n",
       "</table>\n",
       "</div>"
      ],
      "text/plain": [
       "                                                                                                                                                                                                                                                                                                                                                                                                                                                                                                                                                                                                                                                                                                                                                                                                                                                                                                                                                                                                                              shape_coords  \\\n",
       "1  {'type': 'MultiPolygon', 'coordinates': [[[[-62.30193906235752, 46.38321265770228], [-62.30028116779229, 46.38324293681658], [-62.299865414661106, 46.382718571008894], [-62.29865512281889, 46.382315248251814], [-62.29649603156064, 46.38240085546293], [-62.29518661612012, 46.38052143804876], [-62.29215513727051, 46.37882470677924], [-62.2929036027819, 46.377646314725006], [-62.29298725043562, 46.37671118691223], [-62.29220722674232, 46.375221881689036], [-62.29224915400528, 46.37459687853618], [-62.2911950758377, 46.37319582756458], [-62.29063017723259, 46.37166286923815], [-62.28960740951799, 46.37135509000707], [-62.288432262779565, 46.37027713060302], [-62.287529418088305, 46.368754635286095], [-62.28651520668064, 46.36780002217427], [-62.281843289540426, 46.365809292947475], [-62.28119165776914, 46.36585015347795], [-62.28117308926856, 46.36538670910137], [-62.279774528295945, 46.363439070894124], [-62.2794670734353, 46.36222167091066], [-62.28116125596737, 46.3597907259646], [-...   \n",
       "2  {'type': 'MultiPolygon', 'coordinates': [[[[-62.692784101408456, 46.25713089897041], [-62.691956202608615, 46.25668759943612], [-62.69206780026245, 46.2553018995078], [-62.68710359664863, 46.243012501268254], [-62.68604730143255, 46.241731598544085], [-62.683347003123856, 46.23536120126771], [-62.673841504394105, 46.21107050099074], [-62.669875799815024, 46.210852099918284], [-62.67194921892749, 46.209959782004994], [-62.67393773984025, 46.20839109283052], [-62.67807350457044, 46.20850833170119], [-62.683225500385674, 46.211393900014], [-62.68534451464446, 46.20879341420993], [-62.69260030063522, 46.21181140014953], [-62.69627875172703, 46.209255566402994], [-62.707433271170075, 46.20914419741064], [-62.71186190188127, 46.21157760049397], [-62.71450904645806, 46.208748105057275], [-62.71674356120279, 46.20865343457524], [-62.726432570847315, 46.2097101332118], [-62.75386191895614, 46.21058001592312], [-62.75799280131757, 46.21340360150944], [-62.76153540146796, 46.21083939125454], ...   \n",
       "\n",
       "                                                              centroid_coords  \n",
       "1   {'type': 'Point', 'coordinates': [-62.31139346061274, 46.39551690439803]}  \n",
       "2  {'type': 'Point', 'coordinates': [-62.727308633550344, 46.23957261711341]}  "
      ]
     },
     "execution_count": 9,
     "metadata": {},
     "output_type": "execute_result"
    }
   ],
   "source": [
    "# Merge new DFs.\n",
    "coord_df = pd.merge(df, c_df, left_index=True, right_index=True)[['shape_coords', 'centroid_coords']]\n",
    "coord_df.head(2)"
   ]
  },
  {
   "cell_type": "code",
   "execution_count": 10,
   "id": "f57cc9d1",
   "metadata": {},
   "outputs": [
    {
     "data": {
      "text/html": [
       "<div>\n",
       "<style scoped>\n",
       "    .dataframe tbody tr th:only-of-type {\n",
       "        vertical-align: middle;\n",
       "    }\n",
       "\n",
       "    .dataframe tbody tr th {\n",
       "        vertical-align: top;\n",
       "    }\n",
       "\n",
       "    .dataframe thead th {\n",
       "        text-align: right;\n",
       "    }\n",
       "</style>\n",
       "<table border=\"1\" class=\"dataframe\">\n",
       "  <thead>\n",
       "    <tr style=\"text-align: right;\">\n",
       "      <th></th>\n",
       "      <th>name</th>\n",
       "      <th>url_name</th>\n",
       "      <th>shape_coords</th>\n",
       "      <th>centroid_coords</th>\n",
       "    </tr>\n",
       "  </thead>\n",
       "  <tbody>\n",
       "    <tr>\n",
       "      <th>1</th>\n",
       "      <td>Souris - Elmira</td>\n",
       "      <td>souris-elmira</td>\n",
       "      <td>{'type': 'MultiPolygon', 'coordinates': [[[[-62.30193906235752, 46.38321265770228], [-62.30028116779229, 46.38324293681658], [-62.299865414661106, 46.382718571008894], [-62.29865512281889, 46.382315248251814], [-62.29649603156064, 46.38240085546293], [-62.29518661612012, 46.38052143804876], [-62.29215513727051, 46.37882470677924], [-62.2929036027819, 46.377646314725006], [-62.29298725043562, 46.37671118691223], [-62.29220722674232, 46.375221881689036], [-62.29224915400528, 46.37459687853618], [-62.2911950758377, 46.37319582756458], [-62.29063017723259, 46.37166286923815], [-62.28960740951799, 46.37135509000707], [-62.288432262779565, 46.37027713060302], [-62.287529418088305, 46.368754635286095], [-62.28651520668064, 46.36780002217427], [-62.281843289540426, 46.365809292947475], [-62.28119165776914, 46.36585015347795], [-62.28117308926856, 46.36538670910137], [-62.279774528295945, 46.363439070894124], [-62.2794670734353, 46.36222167091066], [-62.28116125596737, 46.3597907259646], [-...</td>\n",
       "      <td>{'type': 'Point', 'coordinates': [-62.31139346061274, 46.39551690439803]}</td>\n",
       "    </tr>\n",
       "    <tr>\n",
       "      <th>2</th>\n",
       "      <td>Georgetown - Pownal</td>\n",
       "      <td>georgetown-pownal</td>\n",
       "      <td>{'type': 'MultiPolygon', 'coordinates': [[[[-62.692784101408456, 46.25713089897041], [-62.691956202608615, 46.25668759943612], [-62.69206780026245, 46.2553018995078], [-62.68710359664863, 46.243012501268254], [-62.68604730143255, 46.241731598544085], [-62.683347003123856, 46.23536120126771], [-62.673841504394105, 46.21107050099074], [-62.669875799815024, 46.210852099918284], [-62.67194921892749, 46.209959782004994], [-62.67393773984025, 46.20839109283052], [-62.67807350457044, 46.20850833170119], [-62.683225500385674, 46.211393900014], [-62.68534451464446, 46.20879341420993], [-62.69260030063522, 46.21181140014953], [-62.69627875172703, 46.209255566402994], [-62.707433271170075, 46.20914419741064], [-62.71186190188127, 46.21157760049397], [-62.71450904645806, 46.208748105057275], [-62.71674356120279, 46.20865343457524], [-62.726432570847315, 46.2097101332118], [-62.75386191895614, 46.21058001592312], [-62.75799280131757, 46.21340360150944], [-62.76153540146796, 46.21083939125454], ...</td>\n",
       "      <td>{'type': 'Point', 'coordinates': [-62.727308633550344, 46.23957261711341]}</td>\n",
       "    </tr>\n",
       "  </tbody>\n",
       "</table>\n",
       "</div>"
      ],
      "text/plain": [
       "                  name           url_name  \\\n",
       "1      Souris - Elmira      souris-elmira   \n",
       "2  Georgetown - Pownal  georgetown-pownal   \n",
       "\n",
       "                                                                                                                                                                                                                                                                                                                                                                                                                                                                                                                                                                                                                                                                                                                                                                                                                                                                                                                                                                                                                              shape_coords  \\\n",
       "1  {'type': 'MultiPolygon', 'coordinates': [[[[-62.30193906235752, 46.38321265770228], [-62.30028116779229, 46.38324293681658], [-62.299865414661106, 46.382718571008894], [-62.29865512281889, 46.382315248251814], [-62.29649603156064, 46.38240085546293], [-62.29518661612012, 46.38052143804876], [-62.29215513727051, 46.37882470677924], [-62.2929036027819, 46.377646314725006], [-62.29298725043562, 46.37671118691223], [-62.29220722674232, 46.375221881689036], [-62.29224915400528, 46.37459687853618], [-62.2911950758377, 46.37319582756458], [-62.29063017723259, 46.37166286923815], [-62.28960740951799, 46.37135509000707], [-62.288432262779565, 46.37027713060302], [-62.287529418088305, 46.368754635286095], [-62.28651520668064, 46.36780002217427], [-62.281843289540426, 46.365809292947475], [-62.28119165776914, 46.36585015347795], [-62.28117308926856, 46.36538670910137], [-62.279774528295945, 46.363439070894124], [-62.2794670734353, 46.36222167091066], [-62.28116125596737, 46.3597907259646], [-...   \n",
       "2  {'type': 'MultiPolygon', 'coordinates': [[[[-62.692784101408456, 46.25713089897041], [-62.691956202608615, 46.25668759943612], [-62.69206780026245, 46.2553018995078], [-62.68710359664863, 46.243012501268254], [-62.68604730143255, 46.241731598544085], [-62.683347003123856, 46.23536120126771], [-62.673841504394105, 46.21107050099074], [-62.669875799815024, 46.210852099918284], [-62.67194921892749, 46.209959782004994], [-62.67393773984025, 46.20839109283052], [-62.67807350457044, 46.20850833170119], [-62.683225500385674, 46.211393900014], [-62.68534451464446, 46.20879341420993], [-62.69260030063522, 46.21181140014953], [-62.69627875172703, 46.209255566402994], [-62.707433271170075, 46.20914419741064], [-62.71186190188127, 46.21157760049397], [-62.71450904645806, 46.208748105057275], [-62.71674356120279, 46.20865343457524], [-62.726432570847315, 46.2097101332118], [-62.75386191895614, 46.21058001592312], [-62.75799280131757, 46.21340360150944], [-62.76153540146796, 46.21083939125454], ...   \n",
       "\n",
       "                                                              centroid_coords  \n",
       "1   {'type': 'Point', 'coordinates': [-62.31139346061274, 46.39551690439803]}  \n",
       "2  {'type': 'Point', 'coordinates': [-62.727308633550344, 46.23957261711341]}  "
      ]
     },
     "execution_count": 10,
     "metadata": {},
     "output_type": "execute_result"
    }
   ],
   "source": [
    "# Create new DF and save it.\n",
    "complete_df = pd.merge(full_df, coord_df, left_index=True, right_index=True)[['name', 'url_name', 'shape_coords', 'centroid_coords']]\n",
    "complete_df.to_csv('elections_transformed/07_2019_pe_district_shape_coords.csv')\n",
    "complete_df.head(2)"
   ]
  }
 ],
 "metadata": {
  "kernelspec": {
   "display_name": "mlenv",
   "language": "python",
   "name": "mlenv"
  },
  "language_info": {
   "codemirror_mode": {
    "name": "ipython",
    "version": 3
   },
   "file_extension": ".py",
   "mimetype": "text/x-python",
   "name": "python",
   "nbconvert_exporter": "python",
   "pygments_lexer": "ipython3",
   "version": "3.7.10"
  }
 },
 "nbformat": 4,
 "nbformat_minor": 5
}
